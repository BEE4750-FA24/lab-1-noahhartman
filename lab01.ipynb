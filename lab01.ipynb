{
  "cells": [
    {
      "cell_type": "markdown",
      "id": "7b030395-ff9d-488b-893a-3f2925d07a29",
      "metadata": {},
      "source": [
        "# BEE 4750 Lab 1: Julia and GitHub Basics\n",
        "\n",
        "**Name**:\n",
        "\n",
        "**ID**:\n",
        "\n",
        "> **Due Date**\n",
        ">\n",
        "> Wednesday, 8/28/24, 9:00pm\n",
        "\n",
        "## Setup\n",
        "\n",
        "The following code should go at the top of most Julia scripts; it will\n",
        "load the local package environment and install any needed packages. You\n",
        "will see this often and shouldn’t need to touch it."
      ]
    },
    {
      "cell_type": "code",
      "execution_count": 1,
      "id": "2",
      "metadata": {},
      "outputs": [
        {
          "name": "stderr",
          "output_type": "stream",
          "text": [
            "\u001b[32m\u001b[1m  Activating\u001b[22m\u001b[39m project at `c:\\Users\\noah\\labs\\lab-1-noahhartman`\n",
            "\u001b[32m\u001b[1m   Installed\u001b[22m\u001b[39m libfdk_aac_jll ───── v2.0.2+0\n",
            "\u001b[32m\u001b[1m   Installed\u001b[22m\u001b[39m Opus_jll ─────────── v1.3.2+0\n",
            "\u001b[32m\u001b[1m   Installed\u001b[22m\u001b[39m GR_jll ───────────── v0.73.6+0\n",
            "\u001b[32m\u001b[1m   Installed\u001b[22m\u001b[39m IJulia ───────────── v1.25.0\n",
            "\u001b[32m\u001b[1m   Installed\u001b[22m\u001b[39m Unitful ──────────── v1.20.0\n",
            "\u001b[32m\u001b[1m   Installed\u001b[22m\u001b[39m libsodium_jll ────── v1.0.20+0\n",
            "\u001b[32m\u001b[1m   Installed\u001b[22m\u001b[39m SoftGlobalScope ──── v1.1.0\n",
            "\u001b[32m\u001b[1m   Installed\u001b[22m\u001b[39m HarfBuzz_jll ─────── v2.8.1+1\n",
            "\u001b[32m\u001b[1m   Installed\u001b[22m\u001b[39m TranscodingStreams ─ v0.11.0\n",
            "\u001b[32m\u001b[1m   Installed\u001b[22m\u001b[39m GLFW_jll ─────────── v3.4.0+0\n",
            "\u001b[32m\u001b[1m   Installed\u001b[22m\u001b[39m fzf_jll ──────────── v0.43.0+0\n",
            "\u001b[32m\u001b[1m   Installed\u001b[22m\u001b[39m ZeroMQ_jll ───────── v4.3.5+0\n",
            "\u001b[32m\u001b[1m   Installed\u001b[22m\u001b[39m Compat ───────────── v4.15.0\n",
            "\u001b[32m\u001b[1m   Installed\u001b[22m\u001b[39m CodecZlib ────────── v0.7.5\n",
            "\u001b[32m\u001b[1m   Installed\u001b[22m\u001b[39m JLFzf ────────────── v0.1.7\n",
            "\u001b[32m\u001b[1m   Installed\u001b[22m\u001b[39m Conda ────────────── v1.10.2\n",
            "\u001b[32m\u001b[1m   Installed\u001b[22m\u001b[39m ZMQ ──────────────── v1.2.6\n",
            "\u001b[32m\u001b[1m   Installed\u001b[22m\u001b[39m ColorSchemes ─────── v3.25.0\n",
            "\u001b[32m\u001b[1m   Installed\u001b[22m\u001b[39m Plots ────────────── v1.40.5\n",
            "\u001b[32m\u001b[1m   Installed\u001b[22m\u001b[39m libass_jll ───────── v0.15.1+0\n",
            "\u001b[32m\u001b[1m   Installed\u001b[22m\u001b[39m XML2_jll ─────────── v2.13.1+0\n",
            "\u001b[32m\u001b[1m   Installed\u001b[22m\u001b[39m GR ───────────────── v0.73.6\n",
            "\u001b[32m\u001b[1m   Installed\u001b[22m\u001b[39m LLVMOpenMP_jll ───── v15.0.7+0\n",
            "\u001b[32m\u001b[1m   Installed\u001b[22m\u001b[39m libvorbis_jll ────── v1.3.7+1\n",
            "\u001b[32m\u001b[1m   Installed\u001b[22m\u001b[39m VersionParsing ───── v1.3.0\n",
            "\u001b[32m\u001b[1m   Installed\u001b[22m\u001b[39m Latexify ─────────── v0.16.4\n",
            "\u001b[32m\u001b[1m    Building\u001b[22m\u001b[39m Conda ─→ `C:\\Users\\noah\\.julia\\scratchspaces\\44cfe95a-1eb2-52ea-b672-e2afdf69b78f\\b19db3927f0db4151cb86d073689f2428e524576\\build.log`\n",
            "\u001b[32m\u001b[1m    Building\u001b[22m\u001b[39m IJulia → `C:\\Users\\noah\\.julia\\scratchspaces\\44cfe95a-1eb2-52ea-b672-e2afdf69b78f\\1702f79fa30f56b68d5b2fd6fb3a9a14ff6f9130\\build.log`\n",
            "\u001b[32m\u001b[1mPrecompiling\u001b[22m\u001b[39m project...\n",
            "\u001b[32m  ✓ \u001b[39m\u001b[90mSoftGlobalScope\u001b[39m\n",
            "\u001b[32m  ✓ \u001b[39m\u001b[90mCompat\u001b[39m\n",
            "\u001b[32m  ✓ \u001b[39m\u001b[90mfzf_jll\u001b[39m\n",
            "\u001b[32m  ✓ \u001b[39m\u001b[90mlibsodium_jll\u001b[39m\n",
            "\u001b[32m  ✓ \u001b[39m\u001b[90mTranscodingStreams\u001b[39m\n",
            "\u001b[32m  ✓ \u001b[39m\u001b[90mLLVMOpenMP_jll\u001b[39m\n",
            "\u001b[32m  ✓ \u001b[39m\u001b[90mlibfdk_aac_jll\u001b[39m\n",
            "\u001b[32m  ✓ \u001b[39m\u001b[90mlibvorbis_jll\u001b[39m\n",
            "\u001b[32m  ✓ \u001b[39m\u001b[90mOpus_jll\u001b[39m\n",
            "\u001b[32m  ✓ \u001b[39m\u001b[90mVersionParsing\u001b[39m\n",
            "\u001b[32m  ✓ \u001b[39m\u001b[90mXML2_jll\u001b[39m\n",
            "\u001b[32m  ✓ \u001b[39m\u001b[90mCompat → CompatLinearAlgebraExt\u001b[39m\n",
            "\u001b[32m  ✓ \u001b[39m\u001b[90mLatexify\u001b[39m\n",
            "\u001b[32m  ✓ \u001b[39m\u001b[90mTranscodingStreams → TestExt\u001b[39m\n",
            "\u001b[32m  ✓ \u001b[39m\u001b[90mConda\u001b[39m\n",
            "\u001b[32m  ✓ \u001b[39m\u001b[90mJLFzf\u001b[39m\n",
            "\u001b[32m  ✓ \u001b[39m\u001b[90mCodecZlib\u001b[39m\n",
            "\u001b[32m  ✓ \u001b[39m\u001b[90mZeroMQ_jll\u001b[39m\n",
            "\u001b[32m  ✓ \u001b[39m\u001b[90mGettext_jll\u001b[39m\n",
            "\u001b[32m  ✓ \u001b[39m\u001b[90mXSLT_jll\u001b[39m\n",
            "\u001b[32m  ✓ \u001b[39m\u001b[90mColorSchemes\u001b[39m\n",
            "\u001b[32m  ✓ \u001b[39m\u001b[90mDataStructures\u001b[39m\n",
            "\u001b[32m  ✓ \u001b[39m\u001b[90mGLFW_jll\u001b[39m\n",
            "\u001b[32m  ✓ \u001b[39m\u001b[90mGlib_jll\u001b[39m\n",
            "\u001b[32m  ✓ \u001b[39m\u001b[90mSortingAlgorithms\u001b[39m\n",
            "\u001b[32m  ✓ \u001b[39m\u001b[90mZMQ\u001b[39m\n",
            "\u001b[32m  ✓ \u001b[39m\u001b[90mCairo_jll\u001b[39m\n",
            "\u001b[32m  ✓ \u001b[39m\u001b[90mQt6Base_jll\u001b[39m\n",
            "\u001b[32m  ✓ \u001b[39m\u001b[90mHTTP\u001b[39m\n",
            "\u001b[32m  ✓ \u001b[39m\u001b[90mHarfBuzz_jll\u001b[39m\n",
            "\u001b[32m  ✓ \u001b[39m\u001b[90mStatsBase\u001b[39m\n",
            "\u001b[32m  ✓ \u001b[39mIJulia\n",
            "\u001b[32m  ✓ \u001b[39m\u001b[90mPlotUtils\u001b[39m\n",
            "\u001b[32m  ✓ \u001b[39m\u001b[90mlibass_jll\u001b[39m\n",
            "\u001b[32m  ✓ \u001b[39m\u001b[90mUnitful\u001b[39m\n",
            "\u001b[32m  ✓ \u001b[39m\u001b[90mPlotThemes\u001b[39m\n",
            "\u001b[32m  ✓ \u001b[39m\u001b[90mRecipesPipeline\u001b[39m\n",
            "\u001b[32m  ✓ \u001b[39m\u001b[90mUnitfulLatexify\u001b[39m\n",
            "\u001b[32m  ✓ \u001b[39m\u001b[90mFFMPEG_jll\u001b[39m\n",
            "\u001b[32m  ✓ \u001b[39m\u001b[90mFFMPEG\u001b[39m\n",
            "\u001b[32m  ✓ \u001b[39m\u001b[90mGR_jll\u001b[39m\n",
            "\u001b[32m  ✓ \u001b[39m\u001b[90mGR\u001b[39m\n",
            "\u001b[32m  ✓ \u001b[39mPlots\n",
            "\u001b[32m  ✓ \u001b[39m\u001b[90mPlots → UnitfulExt\u001b[39m\n",
            "\u001b[32m  ✓ \u001b[39m\u001b[90mPlots → IJuliaExt\u001b[39m\n",
            "  45 dependencies successfully precompiled in 92 seconds. 111 already precompiled.\n"
          ]
        }
      ],
      "source": [
        "import Pkg\n",
        "Pkg.activate(\".\")\n",
        "Pkg.instantiate()"
      ]
    },
    {
      "cell_type": "markdown",
      "id": "b0c0f53b-93bc-4baa-8b0e-bdb58e8ff961",
      "metadata": {},
      "source": [
        "This next cell loads packages which are required for the rest of the\n",
        "code evaluation. In this case, we only need to load the `Plots.jl`\n",
        "plotting package, but you will see others over the course of the\n",
        "semester (and can add more if desired; just make sure that you’ve [added\n",
        "the new packages to the\n",
        "environment](https://viveks.me/environmental-systems-analysis/tutorials/julia-basics.html#package-management)).\n",
        "Standard Julia practice is to load all of the needed packages at the top\n",
        "of the file.\n",
        "\n",
        "> **Warning**\n",
        ">\n",
        "> Loading packages can take a while, especially the first time! Julia\n",
        "> tries to precompile all of the packages you’re using so repeat use is\n",
        "> faster, but this can be quite slow at first."
      ]
    },
    {
      "cell_type": "code",
      "execution_count": 2,
      "id": "4",
      "metadata": {},
      "outputs": [],
      "source": [
        "using Plots"
      ]
    },
    {
      "cell_type": "markdown",
      "id": "6d2bc421-d992-4864-a390-fd6d7820f6c0",
      "metadata": {},
      "source": [
        "## Introduction\n",
        "\n",
        "### Julia\n",
        "\n",
        "Julia is an up-and-coming language, originally developed for scientific\n",
        "programming. While learning a new programming language always has its\n",
        "hiccups, the good news is that if you’ve programmed in a high-level\n",
        "language such as Python or MATLAB, most Julia concepts should look\n",
        "familiar.\n",
        "\n",
        "If you have not successfully set up Julia, follow the instructions in\n",
        "[Tools\n",
        "Setup](https://viveks.me/environmental-systems-analysis/setup.html)\n",
        "and/or ask for help.\n",
        "\n",
        "You can use other editors for this course, but our recommendation is\n",
        "[Visual Studio Code](https://code.visualstudio.com/) with the [Julia\n",
        "extension](https://marketplace.visualstudio.com/items?itemName=julialang.language-julia),\n",
        "which will make life a *lot* simpler! You should have set this up by\n",
        "following the [Tools\n",
        "Setup](https://viveks.me/environmental-systems-analysis/setup.html)\n",
        "instructions, but if not, do so now and/or ask for help.\n",
        "\n",
        "### Jupyter Notebooks\n",
        "\n",
        "Jupyter notebooks integrate text and equations in Markdown with Julia\n",
        "(or Python, or R) code. To do this, Jupyter notebooks consist of two\n",
        "types of “cells”: code cells and Markdown (text) cells.\n",
        "\n",
        "Click once on this section of text. A box will appear around this text\n",
        "(and some areas above/below it) - all of that is within this cell.\n",
        "\n",
        "Markdown is a text markup framework for formatting language that makes\n",
        "things look pretty when viewed across different platforms: web browsers,\n",
        "notebooks, and so forth. Text written in Markdown can also include\n",
        "hyperlinks, LaTeX equations, section headers, and images, among other\n",
        "features (most of [the course\n",
        "website](https://viveks.me/climate-risk-analysis) and the lecture notes\n",
        "were all written in Markdown!). [Here is a basic Markdown cheat\n",
        "sheet](https://www.markdownguide.org/cheat-sheet/).\n",
        "\n",
        "What you are looking at right now is the formatted text after the\n",
        "Markdown is processed. To see the raw Markdown, do one of:\n",
        "\n",
        "-   press `Enter` while that cell is selected, or\n",
        "-   double-click on that cell.\n",
        "\n",
        "------------------------------------------------------------------------\n",
        "\n",
        "A couple of the features you will see in this Markdown cell:\n",
        "\n",
        "-   The `---` command creates a horizontal line. This is also nice for\n",
        "    separating sections.\n",
        "-   Backticks (`` `...` ``) can be used to format and highlight code,\n",
        "    keystrokes, etc.\n",
        "-   The `#` sign is used to create a new section header; two `#` signs\n",
        "    (`##`) is used to create a new subsection header; `###` creates a\n",
        "    subsubsection, and so on.\n",
        "-   You can create a bulleted list by using the asterisk `*` or a dash\n",
        "    `-` and a space.\n",
        "-   You can create regular text by just typing as usual.\n",
        "-   You can create **bold-faced text** by wrapping it with two asterisks\n",
        "    on both sides.\n",
        "-   You can create *italicized text* by wrapping it with a single\n",
        "    asterisk on both sides.\n",
        "-   To create a new paragraph, you must include a blank line between the\n",
        "    old and new paragraphs.\n",
        "\n",
        "At this point you might be wondering how to turn this cell back into the\n",
        "fully formatted Markdown text instead of the raw Markdown you’re\n",
        "probably still looking at. You have a couple of options, depending on\n",
        "your platform, but the most consistent is to type `Shift + Enter` to\n",
        "**execute** the cell (this is also how to run code, but more on that\n",
        "later).\n",
        "\n",
        "Additionally, you will frequently need to create new cells in your\n",
        "Jupyter notebooks. How you do this will depend on how you interact with\n",
        "the notebook, but try to figure this out now.\n",
        "\n",
        "One tip is to think carefully about what bits of code should be in the\n",
        "same cell, as you typically only see output from the last command in a\n",
        "cell. For example, compare the following:"
      ]
    },
    {
      "cell_type": "code",
      "execution_count": 1,
      "id": "6",
      "metadata": {},
      "outputs": [
        {
          "data": {
            "text/plain": [
              "-0.9589242746631385"
            ]
          },
          "metadata": {},
          "output_type": "display_data"
        }
      ],
      "source": [
        "x = 5\n",
        "sin(x)"
      ]
    },
    {
      "cell_type": "markdown",
      "id": "0b56a2f1-81e8-4426-b62a-95cfc3933b92",
      "metadata": {},
      "source": [
        "with"
      ]
    },
    {
      "cell_type": "code",
      "execution_count": 1,
      "id": "8",
      "metadata": {},
      "outputs": [
        {
          "data": {
            "text/plain": [
              "5"
            ]
          },
          "metadata": {},
          "output_type": "display_data"
        }
      ],
      "source": [
        "x = 5"
      ]
    },
    {
      "cell_type": "code",
      "execution_count": 1,
      "id": "10",
      "metadata": {},
      "outputs": [
        {
          "data": {
            "text/plain": [
              "-0.9589242746631385"
            ]
          },
          "metadata": {},
          "output_type": "display_data"
        }
      ],
      "source": [
        "sin(x)"
      ]
    },
    {
      "cell_type": "markdown",
      "id": "474d541d-93e6-47e1-874f-80abd6c9d7cc",
      "metadata": {},
      "source": [
        "In Julia, you can also suppress the output of a command with a\n",
        "semi-colon:"
      ]
    },
    {
      "cell_type": "code",
      "execution_count": 1,
      "id": "12",
      "metadata": {},
      "outputs": [],
      "source": [
        "sin(x);"
      ]
    },
    {
      "cell_type": "markdown",
      "id": "e5950d08-d04e-4fc7-bed8-33e0ee9a1909",
      "metadata": {},
      "source": [
        "which can help if you want to split some code out for clarity or to\n",
        "insert some text prior to it, but don’t want to clutter the notebook\n",
        "with its output.\n",
        "\n",
        "For code cells, to execute the commands within the cell, we also press\n",
        "`Shift+Enter`.\n",
        "\n",
        "Finally, **make sure that you evaluate all of the code cells in order\n",
        "before submitting**. One bad outcome with notebooks occurs when cells\n",
        "are evaluated out of order, so fixed bugs and edits in previous cells do\n",
        "not get a chance to propagate down. You can do this with the `Run All`\n",
        "command in whichever interface you’re using to edit your notebook.\n",
        "\n",
        "### Julia Basics\n",
        "\n",
        "There are many tutorials and references for Julia, including a [basics\n",
        "overview on the class website](../tutorials/julia-basics.html). Please\n",
        "feel free to reference these as you work through any part of the course.\n",
        "\n",
        "### Formatting Math\n",
        "\n",
        "It will often be helpful to include nicely-formatted mathematics in a\n",
        "notebook. Markdown accomodates this using LaTeX syntax. A LaTeX\n",
        "cheatsheet is available on the class website, and many other guides\n",
        "exist online.\n",
        "\n",
        "Below is an example of a formatted equation: $$x = 5.$$\n",
        "\n",
        "### Looking For Help\n",
        "\n",
        "There is no shame in using Google, or other resources, for help when\n",
        "programming. There are many, many times when you can’t quite get the\n",
        "syntax to work, can’t quite figure out the right package or command to\n",
        "use, or are feeling too lazy or overwhelmed (I’m not judging either of\n",
        "those!) to dig through the documentation. Some good resources include:\n",
        "\n",
        "-   [Stack Overflow](https://stackoverflow.com/) is a treasure trove of\n",
        "    answers;\n",
        "-   The [official Julia forum](https://discourse.julialang.org/) and the\n",
        "    [Julia Subreddit](https://www.reddit.com/r/Julia/) are also very\n",
        "    useful.\n",
        "\n",
        "You are also highly encouraged to post on [Ed\n",
        "Discussion](https://us.edstem.org), though getting a response might be\n",
        "less immediate. Just be mindful that to get good answers, [you have to\n",
        "help people help you](https://stackoverflow.com/help/how-to-ask), and\n",
        "**make sure to give credit to any resources that were helpful**!\n",
        "\n",
        "## Exercises (3 points)\n",
        "\n",
        "Use your understanding of Julia syntax and the GitHub workflow to\n",
        "complete the following (hopefully short) exercises. Convert your\n",
        "completed lab assignment to a PDF and submit it to the Gradescope\n",
        "Assignment “Lab 1”.\n",
        "\n",
        "**Remember to**:\n",
        "\n",
        "-   Include a (succint but clear) writeup of the core idea underlying\n",
        "    your code, through some combination of equations, text, and\n",
        "    algorithms. As you are not required to submit your code, we will not\n",
        "    be looking at it in detail, and instead will rely on those writeups\n",
        "    to assess whether your approach is correct.\n",
        "-   If using the notebook, evaluate all of your code cells, in order\n",
        "    (using a `Run All` command). This will make sure all output is\n",
        "    visible and that the code cells were evaluated in the correct order.\n",
        "-   Tag each of the problems when you submit to Gradescope; a 10%\n",
        "    penalty will be deducted if this is not done.\n",
        "\n",
        "### Computing a Dot Product\n",
        "\n",
        "Given two numeric arrays `x` and `y`, write a function to compute their\n",
        "dot product if they have equal length, and return an error if not (this\n",
        "is useful for debugging!). Use the following code as a starting point."
      ]
    },
    {
      "cell_type": "markdown",
      "id": "77059ace",
      "metadata": {},
      "source": [
        "[im unsure how you would like this write-up since the bulk of the code was already given to us, but i added a test after the if statement to determine whether or not dot products, x, y are of equal length, followed by an equation to determine the dot product of the two arrays if they are equal lengths. the \"for i in 1:length(x))\" is necessary because without it, the code would not run as \"i\" has not been defined]"
      ]
    },
    {
      "cell_type": "code",
      "execution_count": 3,
      "id": "14",
      "metadata": {},
      "outputs": [
        {
          "data": {
            "text/plain": [
              "dot_product (generic function with 1 method)"
            ]
          },
          "metadata": {},
          "output_type": "display_data"
        }
      ],
      "source": [
        "# noah hartman (bee5750 - lab01) [last modified: 8/28/24]\n",
        "function dot_product(x, y)\n",
        "    if  length(x) == length(y)\n",
        "        # insert test condition for equal lengths\n",
        "        return sum(x[i] * y[i] for i in 1:length(x))\n",
        "        # compute and return dot product\n",
        "    else\n",
        "        throw(DimensionMismatch(\"length of x not equal to length of y\"))\n",
        "    end\n",
        "end"
      ]
    },
    {
      "cell_type": "markdown",
      "id": "e0ce47a6-a5e8-4cd8-a776-5b04adfa6330",
      "metadata": {},
      "source": [
        "Here are some tests to make sure your code works as intended. Tests like\n",
        "these are useful to make sure everything works as intended. One reason\n",
        "to split your code up into functions is that it makes it straightforward\n",
        "to write tests to make sure each piece of your code works, which makes\n",
        "it easier to identify where errors are occuring."
      ]
    },
    {
      "cell_type": "code",
      "execution_count": 4,
      "id": "16",
      "metadata": {},
      "outputs": [
        {
          "data": {
            "text/plain": [
              "32"
            ]
          },
          "metadata": {},
          "output_type": "display_data"
        }
      ],
      "source": [
        "dot_product([1 2 3], [4 5 6])"
      ]
    },
    {
      "cell_type": "markdown",
      "id": "37f85171-25e8-4513-b57c-af25ff4378e7",
      "metadata": {},
      "source": [
        "If you know the value you should get, you can write a more formal test\n",
        "using the `@assert` macro, which is a good way to “automate” checking\n",
        "(since you get an obvious error if the code doesn’t work as desired):"
      ]
    },
    {
      "cell_type": "code",
      "execution_count": 5,
      "id": "18",
      "metadata": {},
      "outputs": [],
      "source": [
        "@assert dot_product([1 2 3], [4 5 6]) == 32"
      ]
    },
    {
      "cell_type": "markdown",
      "id": "65ccdcd8-449e-4f0c-8f4e-7953ea267f8d",
      "metadata": {},
      "source": [
        "Let’s also make sure we get an error when the dimensions of the two\n",
        "vectors don’t match:"
      ]
    },
    {
      "cell_type": "code",
      "execution_count": 6,
      "id": "20",
      "metadata": {},
      "outputs": [
        {
          "ename": "DimensionMismatch",
          "evalue": "DimensionMismatch: length of x not equal to length of y",
          "output_type": "error",
          "traceback": [
            "DimensionMismatch: length of x not equal to length of y\n",
            "\n",
            "Stacktrace:\n",
            " [1] dot_product(x::Matrix{Int64}, y::Matrix{Int64})\n",
            "   @ Main c:\\Users\\noah\\labs\\lab-1-noahhartman\\jl_notebook_cell_df34fa98e69747e1a8f8a730347b8e2f_X15sZmlsZQ==.jl:8\n",
            " [2] top-level scope\n",
            "   @ c:\\Users\\noah\\labs\\lab-1-noahhartman\\jl_notebook_cell_df34fa98e69747e1a8f8a730347b8e2f_X24sZmlsZQ==.jl:1"
          ]
        }
      ],
      "source": [
        "dot_product([1 2 3], [4 5])"
      ]
    },
    {
      "cell_type": "markdown",
      "id": "8c069a05-159a-43b4-aa3f-d1fec9a2f727",
      "metadata": {},
      "source": [
        "### Making a Plot\n",
        "\n",
        "Write a function to compute the square of an integer `x`. Evaluate this\n",
        "function for integers between $x=-5$ and $x=5$ and make a plot of the\n",
        "squared values (you can find a quick guide to making various types of\n",
        "plots\n",
        "[here](https://viveks.me/environmental-systems-analysis/tutorials/julia-plots.html)).\n",
        "Make sure to label your axes."
      ]
    },
    {
      "cell_type": "markdown",
      "id": "1e9f492a",
      "metadata": {},
      "source": [
        "[the code below for problem 2: first i created a function to square the x values, created a variable called x_values to store x from -5 to 5. from there, the squared values are also stored under the name squared_values. lastly, a plot is created using the original x values and the squared x values with code to add axis and plot titles]"
      ]
    },
    {
      "cell_type": "code",
      "execution_count": 7,
      "id": "22",
      "metadata": {},
      "outputs": [
        {
          "data": {
            "image/png": "[encoded data removed]",
            "image/svg+xml": [
              "<?xml version=\"1.0\" encoding=\"utf-8\"?>\n",
              "<svg xmlns=\"http://www.w3.org/2000/svg\" xmlns:xlink=\"http://www.w3.org/1999/xlink\" width=\"600\" height=\"400\" viewBox=\"0 0 2400 1600\">\n",
              "<defs>\n",
              "  <clipPath id=\"clip440\">\n",
              "    <rect x=\"0\" y=\"0\" width=\"2400\" height=\"1600\"/>\n",
              "  </clipPath>\n",
              "</defs>\n",
              "<path clip-path=\"url(#clip440)\" d=\"M0 1600 L2400 1600 L2400 0 L0 0  Z\" fill=\"#ffffff\" fill-rule=\"evenodd\" fill-opacity=\"1\"/>\n",
              "<defs>\n",
              "  <clipPath id=\"clip441\">\n",
              "    <rect x=\"480\" y=\"0\" width=\"1681\" height=\"1600\"/>\n",
              "  </clipPath>\n",
              "</defs>\n",
              "<path clip-path=\"url(#clip440)\" d=\"M203.964 1423.18 L2352.76 1423.18 L2352.76 123.472 L203.964 123.472  Z\" fill=\"#ffffff\" fill-rule=\"evenodd\" fill-opacity=\"1\"/>\n",
              "<defs>\n",
              "  <clipPath id=\"clip442\">\n",
              "    <rect x=\"203\" y=\"123\" width=\"2150\" height=\"1301\"/>\n",
              "  </clipPath>\n",
              "</defs>\n",
              "<polyline clip-path=\"url(#clip442)\" style=\"stroke:#000000; stroke-linecap:round; stroke-linejoin:round; stroke-width:2; stroke-opacity:0.1; fill:none\" points=\"467.495,1423.18 467.495,123.472 \"/>\n",
              "<polyline clip-path=\"url(#clip442)\" style=\"stroke:#000000; stroke-linecap:round; stroke-linejoin:round; stroke-width:2; stroke-opacity:0.1; fill:none\" points=\"872.927,1423.18 872.927,123.472 \"/>\n",
              "<polyline clip-path=\"url(#clip442)\" style=\"stroke:#000000; stroke-linecap:round; stroke-linejoin:round; stroke-width:2; stroke-opacity:0.1; fill:none\" points=\"1278.36,1423.18 1278.36,123.472 \"/>\n",
              "<polyline clip-path=\"url(#clip442)\" style=\"stroke:#000000; stroke-linecap:round; stroke-linejoin:round; stroke-width:2; stroke-opacity:0.1; fill:none\" points=\"1683.79,1423.18 1683.79,123.472 \"/>\n",
              "<polyline clip-path=\"url(#clip442)\" style=\"stroke:#000000; stroke-linecap:round; stroke-linejoin:round; stroke-width:2; stroke-opacity:0.1; fill:none\" points=\"2089.22,1423.18 2089.22,123.472 \"/>\n",
              "<polyline clip-path=\"url(#clip440)\" style=\"stroke:#000000; stroke-linecap:round; stroke-linejoin:round; stroke-width:4; stroke-opacity:1; fill:none\" points=\"203.964,1423.18 2352.76,1423.18 \"/>\n",
              "<polyline clip-path=\"url(#clip440)\" style=\"stroke:#000000; stroke-linecap:round; stroke-linejoin:round; stroke-width:4; stroke-opacity:1; fill:none\" points=\"467.495,1423.18 467.495,1404.28 \"/>\n",
              "<polyline clip-path=\"url(#clip440)\" style=\"stroke:#000000; stroke-linecap:round; stroke-linejoin:round; stroke-width:4; stroke-opacity:1; fill:none\" points=\"872.927,1423.18 872.927,1404.28 \"/>\n",
              "<polyline clip-path=\"url(#clip440)\" style=\"stroke:#000000; stroke-linecap:round; stroke-linejoin:round; stroke-width:4; stroke-opacity:1; fill:none\" points=\"1278.36,1423.18 1278.36,1404.28 \"/>\n",
              "<polyline clip-path=\"url(#clip440)\" style=\"stroke:#000000; stroke-linecap:round; stroke-linejoin:round; stroke-width:4; stroke-opacity:1; fill:none\" points=\"1683.79,1423.18 1683.79,1404.28 \"/>\n",
              "<polyline clip-path=\"url(#clip440)\" style=\"stroke:#000000; stroke-linecap:round; stroke-linejoin:round; stroke-width:4; stroke-opacity:1; fill:none\" points=\"2089.22,1423.18 2089.22,1404.28 \"/>\n",
              "<path clip-path=\"url(#clip440)\" d=\"M436.395 1468.75 L466.071 1468.75 L466.071 1472.69 L436.395 1472.69 L436.395 1468.75 Z\" fill=\"#000000\" fill-rule=\"nonzero\" fill-opacity=\"1\" /><path clip-path=\"url(#clip440)\" d=\"M489.011 1455.09 L477.205 1473.54 L489.011 1473.54 L489.011 1455.09 M487.784 1451.02 L493.664 1451.02 L493.664 1473.54 L498.594 1473.54 L498.594 1477.43 L493.664 1477.43 L493.664 1485.58 L489.011 1485.58 L489.011 1477.43 L473.409 1477.43 L473.409 1472.92 L487.784 1451.02 Z\" fill=\"#000000\" fill-rule=\"nonzero\" fill-opacity=\"1\" /><path clip-path=\"url(#clip440)\" d=\"M842.87 1468.75 L872.545 1468.75 L872.545 1472.69 L842.87 1472.69 L842.87 1468.75 Z\" fill=\"#000000\" fill-rule=\"nonzero\" fill-opacity=\"1\" /><path clip-path=\"url(#clip440)\" d=\"M886.666 1481.64 L902.985 1481.64 L902.985 1485.58 L881.041 1485.58 L881.041 1481.64 Q883.703 1478.89 888.286 1474.26 Q892.892 1469.61 894.073 1468.27 Q896.318 1465.74 897.198 1464.01 Q898.101 1462.25 898.101 1460.56 Q898.101 1457.8 896.156 1456.07 Q894.235 1454.33 891.133 1454.33 Q888.934 1454.33 886.48 1455.09 Q884.05 1455.86 881.272 1457.41 L881.272 1452.69 Q884.096 1451.55 886.55 1450.97 Q889.004 1450.39 891.041 1450.39 Q896.411 1450.39 899.605 1453.08 Q902.8 1455.77 902.8 1460.26 Q902.8 1462.39 901.99 1464.31 Q901.203 1466.2 899.096 1468.8 Q898.517 1469.47 895.416 1472.69 Q892.314 1475.88 886.666 1481.64 Z\" fill=\"#000000\" fill-rule=\"nonzero\" fill-opacity=\"1\" /><path clip-path=\"url(#clip440)\" d=\"M1278.36 1454.1 Q1274.75 1454.1 1272.92 1457.66 Q1271.11 1461.2 1271.11 1468.33 Q1271.11 1475.44 1272.92 1479.01 Q1274.75 1482.55 1278.36 1482.55 Q1281.99 1482.55 1283.8 1479.01 Q1285.63 1475.44 1285.63 1468.33 Q1285.63 1461.2 1283.8 1457.66 Q1281.99 1454.1 1278.36 1454.1 M1278.36 1450.39 Q1284.17 1450.39 1287.23 1455 Q1290.3 1459.58 1290.3 1468.33 Q1290.3 1477.06 1287.23 1481.67 Q1284.17 1486.25 1278.36 1486.25 Q1272.55 1486.25 1269.47 1481.67 Q1266.42 1477.06 1266.42 1468.33 Q1266.42 1459.58 1269.47 1455 Q1272.55 1450.39 1278.36 1450.39 Z\" fill=\"#000000\" fill-rule=\"nonzero\" fill-opacity=\"1\" /><path clip-path=\"url(#clip440)\" d=\"M1678.45 1481.64 L1694.76 1481.64 L1694.76 1485.58 L1672.82 1485.58 L1672.82 1481.64 Q1675.48 1478.89 1680.07 1474.26 Q1684.67 1469.61 1685.85 1468.27 Q1688.1 1465.74 1688.98 1464.01 Q1689.88 1462.25 1689.88 1460.56 Q1689.88 1457.8 1687.94 1456.07 Q1686.01 1454.33 1682.91 1454.33 Q1680.71 1454.33 1678.26 1455.09 Q1675.83 1455.86 1673.05 1457.41 L1673.05 1452.69 Q1675.88 1451.55 1678.33 1450.97 Q1680.78 1450.39 1682.82 1450.39 Q1688.19 1450.39 1691.38 1453.08 Q1694.58 1455.77 1694.58 1460.26 Q1694.58 1462.39 1693.77 1464.31 Q1692.98 1466.2 1690.88 1468.8 Q1690.3 1469.47 1687.2 1472.69 Q1684.09 1475.88 1678.45 1481.64 Z\" fill=\"#000000\" fill-rule=\"nonzero\" fill-opacity=\"1\" /><path clip-path=\"url(#clip440)\" d=\"M2092.23 1455.09 L2080.43 1473.54 L2092.23 1473.54 L2092.23 1455.09 M2091.01 1451.02 L2096.89 1451.02 L2096.89 1473.54 L2101.82 1473.54 L2101.82 1477.43 L2096.89 1477.43 L2096.89 1485.58 L2092.23 1485.58 L2092.23 1477.43 L2076.63 1477.43 L2076.63 1472.92 L2091.01 1451.02 Z\" fill=\"#000000\" fill-rule=\"nonzero\" fill-opacity=\"1\" /><path clip-path=\"url(#clip440)\" d=\"M1294.97 1532.4 L1282.08 1549.74 L1295.64 1568.04 L1288.74 1568.04 L1278.36 1554.04 L1267.98 1568.04 L1261.08 1568.04 L1274.92 1549.39 L1262.25 1532.4 L1269.16 1532.4 L1278.61 1545.1 L1288.07 1532.4 L1294.97 1532.4 Z\" fill=\"#000000\" fill-rule=\"nonzero\" fill-opacity=\"1\" /><polyline clip-path=\"url(#clip442)\" style=\"stroke:#000000; stroke-linecap:round; stroke-linejoin:round; stroke-width:2; stroke-opacity:0.1; fill:none\" points=\"203.964,1386.4 2352.76,1386.4 \"/>\n",
              "<polyline clip-path=\"url(#clip442)\" style=\"stroke:#000000; stroke-linecap:round; stroke-linejoin:round; stroke-width:2; stroke-opacity:0.1; fill:none\" points=\"203.964,1141.17 2352.76,1141.17 \"/>\n",
              "<polyline clip-path=\"url(#clip442)\" style=\"stroke:#000000; stroke-linecap:round; stroke-linejoin:round; stroke-width:2; stroke-opacity:0.1; fill:none\" points=\"203.964,895.94 2352.76,895.94 \"/>\n",
              "<polyline clip-path=\"url(#clip442)\" style=\"stroke:#000000; stroke-linecap:round; stroke-linejoin:round; stroke-width:2; stroke-opacity:0.1; fill:none\" points=\"203.964,650.712 2352.76,650.712 \"/>\n",
              "<polyline clip-path=\"url(#clip442)\" style=\"stroke:#000000; stroke-linecap:round; stroke-linejoin:round; stroke-width:2; stroke-opacity:0.1; fill:none\" points=\"203.964,405.484 2352.76,405.484 \"/>\n",
              "<polyline clip-path=\"url(#clip442)\" style=\"stroke:#000000; stroke-linecap:round; stroke-linejoin:round; stroke-width:2; stroke-opacity:0.1; fill:none\" points=\"203.964,160.256 2352.76,160.256 \"/>\n",
              "<polyline clip-path=\"url(#clip440)\" style=\"stroke:#000000; stroke-linecap:round; stroke-linejoin:round; stroke-width:4; stroke-opacity:1; fill:none\" points=\"203.964,1423.18 203.964,123.472 \"/>\n",
              "<polyline clip-path=\"url(#clip440)\" style=\"stroke:#000000; stroke-linecap:round; stroke-linejoin:round; stroke-width:4; stroke-opacity:1; fill:none\" points=\"203.964,1386.4 222.861,1386.4 \"/>\n",
              "<polyline clip-path=\"url(#clip440)\" style=\"stroke:#000000; stroke-linecap:round; stroke-linejoin:round; stroke-width:4; stroke-opacity:1; fill:none\" points=\"203.964,1141.17 222.861,1141.17 \"/>\n",
              "<polyline clip-path=\"url(#clip440)\" style=\"stroke:#000000; stroke-linecap:round; stroke-linejoin:round; stroke-width:4; stroke-opacity:1; fill:none\" points=\"203.964,895.94 222.861,895.94 \"/>\n",
              "<polyline clip-path=\"url(#clip440)\" style=\"stroke:#000000; stroke-linecap:round; stroke-linejoin:round; stroke-width:4; stroke-opacity:1; fill:none\" points=\"203.964,650.712 222.861,650.712 \"/>\n",
              "<polyline clip-path=\"url(#clip440)\" style=\"stroke:#000000; stroke-linecap:round; stroke-linejoin:round; stroke-width:4; stroke-opacity:1; fill:none\" points=\"203.964,405.484 222.861,405.484 \"/>\n",
              "<polyline clip-path=\"url(#clip440)\" style=\"stroke:#000000; stroke-linecap:round; stroke-linejoin:round; stroke-width:4; stroke-opacity:1; fill:none\" points=\"203.964,160.256 222.861,160.256 \"/>\n",
              "<path clip-path=\"url(#clip440)\" d=\"M156.019 1372.19 Q152.408 1372.19 150.579 1375.76 Q148.774 1379.3 148.774 1386.43 Q148.774 1393.54 150.579 1397.1 Q152.408 1400.64 156.019 1400.64 Q159.653 1400.64 161.459 1397.1 Q163.288 1393.54 163.288 1386.43 Q163.288 1379.3 161.459 1375.76 Q159.653 1372.19 156.019 1372.19 M156.019 1368.49 Q161.829 1368.49 164.885 1373.1 Q167.964 1377.68 167.964 1386.43 Q167.964 1395.16 164.885 1399.76 Q161.829 1404.35 156.019 1404.35 Q150.209 1404.35 147.13 1399.76 Q144.075 1395.16 144.075 1386.43 Q144.075 1377.68 147.13 1373.1 Q150.209 1368.49 156.019 1368.49 Z\" fill=\"#000000\" fill-rule=\"nonzero\" fill-opacity=\"1\" /><path clip-path=\"url(#clip440)\" d=\"M147.061 1123.89 L165.417 1123.89 L165.417 1127.82 L151.343 1127.82 L151.343 1136.3 Q152.362 1135.95 153.38 1135.79 Q154.399 1135.6 155.417 1135.6 Q161.204 1135.6 164.584 1138.77 Q167.964 1141.94 167.964 1147.36 Q167.964 1152.94 164.491 1156.04 Q161.019 1159.12 154.7 1159.12 Q152.524 1159.12 150.255 1158.75 Q148.01 1158.38 145.603 1157.64 L145.603 1152.94 Q147.686 1154.07 149.908 1154.63 Q152.13 1155.18 154.607 1155.18 Q158.612 1155.18 160.95 1153.08 Q163.288 1150.97 163.288 1147.36 Q163.288 1143.75 160.95 1141.64 Q158.612 1139.54 154.607 1139.54 Q152.732 1139.54 150.857 1139.95 Q149.005 1140.37 147.061 1141.25 L147.061 1123.89 Z\" fill=\"#000000\" fill-rule=\"nonzero\" fill-opacity=\"1\" /><path clip-path=\"url(#clip440)\" d=\"M116.668 909.285 L124.306 909.285 L124.306 882.919 L115.996 884.586 L115.996 880.327 L124.26 878.66 L128.936 878.66 L128.936 909.285 L136.575 909.285 L136.575 913.22 L116.668 913.22 L116.668 909.285 Z\" fill=\"#000000\" fill-rule=\"nonzero\" fill-opacity=\"1\" /><path clip-path=\"url(#clip440)\" d=\"M156.019 881.739 Q152.408 881.739 150.579 885.303 Q148.774 888.845 148.774 895.975 Q148.774 903.081 150.579 906.646 Q152.408 910.188 156.019 910.188 Q159.653 910.188 161.459 906.646 Q163.288 903.081 163.288 895.975 Q163.288 888.845 161.459 885.303 Q159.653 881.739 156.019 881.739 M156.019 878.035 Q161.829 878.035 164.885 882.641 Q167.964 887.225 167.964 895.975 Q167.964 904.701 164.885 909.308 Q161.829 913.891 156.019 913.891 Q150.209 913.891 147.13 909.308 Q144.075 904.701 144.075 895.975 Q144.075 887.225 147.13 882.641 Q150.209 878.035 156.019 878.035 Z\" fill=\"#000000\" fill-rule=\"nonzero\" fill-opacity=\"1\" /><path clip-path=\"url(#clip440)\" d=\"M117.663 664.057 L125.302 664.057 L125.302 637.691 L116.992 639.358 L116.992 635.099 L125.255 633.432 L129.931 633.432 L129.931 664.057 L137.57 664.057 L137.57 667.992 L117.663 667.992 L117.663 664.057 Z\" fill=\"#000000\" fill-rule=\"nonzero\" fill-opacity=\"1\" /><path clip-path=\"url(#clip440)\" d=\"M147.061 633.432 L165.417 633.432 L165.417 637.367 L151.343 637.367 L151.343 645.839 Q152.362 645.492 153.38 645.33 Q154.399 645.145 155.417 645.145 Q161.204 645.145 164.584 648.316 Q167.964 651.488 167.964 656.904 Q167.964 662.483 164.491 665.585 Q161.019 668.663 154.7 668.663 Q152.524 668.663 150.255 668.293 Q148.01 667.923 145.603 667.182 L145.603 662.483 Q147.686 663.617 149.908 664.173 Q152.13 664.728 154.607 664.728 Q158.612 664.728 160.95 662.622 Q163.288 660.515 163.288 656.904 Q163.288 653.293 160.95 651.187 Q158.612 649.08 154.607 649.08 Q152.732 649.08 150.857 649.497 Q149.005 649.913 147.061 650.793 L147.061 633.432 Z\" fill=\"#000000\" fill-rule=\"nonzero\" fill-opacity=\"1\" /><path clip-path=\"url(#clip440)\" d=\"M119.885 418.829 L136.204 418.829 L136.204 422.764 L114.26 422.764 L114.26 418.829 Q116.922 416.074 121.505 411.445 Q126.112 406.792 127.292 405.449 Q129.538 402.926 130.417 401.19 Q131.32 399.431 131.32 397.741 Q131.32 394.987 129.376 393.25 Q127.455 391.514 124.353 391.514 Q122.154 391.514 119.7 392.278 Q117.269 393.042 114.492 394.593 L114.492 389.871 Q117.316 388.737 119.769 388.158 Q122.223 387.579 124.26 387.579 Q129.63 387.579 132.825 390.264 Q136.019 392.95 136.019 397.44 Q136.019 399.57 135.209 401.491 Q134.422 403.389 132.316 405.982 Q131.737 406.653 128.635 409.871 Q125.533 413.065 119.885 418.829 Z\" fill=\"#000000\" fill-rule=\"nonzero\" fill-opacity=\"1\" /><path clip-path=\"url(#clip440)\" d=\"M156.019 391.283 Q152.408 391.283 150.579 394.848 Q148.774 398.389 148.774 405.519 Q148.774 412.625 150.579 416.19 Q152.408 419.732 156.019 419.732 Q159.653 419.732 161.459 416.19 Q163.288 412.625 163.288 405.519 Q163.288 398.389 161.459 394.848 Q159.653 391.283 156.019 391.283 M156.019 387.579 Q161.829 387.579 164.885 392.186 Q167.964 396.769 167.964 405.519 Q167.964 414.246 164.885 418.852 Q161.829 423.435 156.019 423.435 Q150.209 423.435 147.13 418.852 Q144.075 414.246 144.075 405.519 Q144.075 396.769 147.13 392.186 Q150.209 387.579 156.019 387.579 Z\" fill=\"#000000\" fill-rule=\"nonzero\" fill-opacity=\"1\" /><path clip-path=\"url(#clip440)\" d=\"M120.88 173.601 L137.2 173.601 L137.2 177.536 L115.256 177.536 L115.256 173.601 Q117.918 170.847 122.501 166.217 Q127.107 161.564 128.288 160.222 Q130.533 157.698 131.413 155.962 Q132.316 154.203 132.316 152.513 Q132.316 149.759 130.371 148.023 Q128.45 146.286 125.348 146.286 Q123.149 146.286 120.695 147.05 Q118.265 147.814 115.487 149.365 L115.487 144.643 Q118.311 143.509 120.765 142.93 Q123.218 142.351 125.255 142.351 Q130.626 142.351 133.82 145.036 Q137.015 147.722 137.015 152.212 Q137.015 154.342 136.204 156.263 Q135.417 158.161 133.311 160.754 Q132.732 161.425 129.63 164.643 Q126.529 167.837 120.88 173.601 Z\" fill=\"#000000\" fill-rule=\"nonzero\" fill-opacity=\"1\" /><path clip-path=\"url(#clip440)\" d=\"M147.061 142.976 L165.417 142.976 L165.417 146.911 L151.343 146.911 L151.343 155.384 Q152.362 155.036 153.38 154.874 Q154.399 154.689 155.417 154.689 Q161.204 154.689 164.584 157.86 Q167.964 161.032 167.964 166.448 Q167.964 172.027 164.491 175.129 Q161.019 178.208 154.7 178.208 Q152.524 178.208 150.255 177.837 Q148.01 177.467 145.603 176.726 L145.603 172.027 Q147.686 173.161 149.908 173.717 Q152.13 174.272 154.607 174.272 Q158.612 174.272 160.95 172.166 Q163.288 170.059 163.288 166.448 Q163.288 162.837 160.95 160.731 Q158.612 158.624 154.607 158.624 Q152.732 158.624 150.857 159.041 Q149.005 159.458 147.061 160.337 L147.061 142.976 Z\" fill=\"#000000\" fill-rule=\"nonzero\" fill-opacity=\"1\" /><path clip-path=\"url(#clip440)\" d=\"M28.3562 802.56 L45.7028 815.451 L64.0042 801.892 L64.0042 808.799 L49.9996 819.175 L64.0042 829.551 L64.0042 836.458 L45.3526 822.612 L28.3562 835.28 L28.3562 828.373 L41.0558 818.92 L28.3562 809.467 L28.3562 802.56 Z\" fill=\"#000000\" fill-rule=\"nonzero\" fill-opacity=\"1\" /><path clip-path=\"url(#clip440)\" d=\"M16.4842 769.332 L34.2127 752.049 L34.2127 758.446 L21.6404 772.451 L34.2127 786.455 L34.2127 792.853 L16.4842 775.57 L16.4842 769.332 Z\" fill=\"#000000\" fill-rule=\"nonzero\" fill-opacity=\"1\" /><path clip-path=\"url(#clip440)\" d=\"M58.5933 732.633 L58.5933 710.194 L64.0042 710.194 L64.0042 740.368 L58.5933 740.368 Q54.8057 736.707 48.44 730.405 Q42.0425 724.071 40.1964 722.448 Q36.7271 719.361 34.34 718.151 Q31.921 716.91 29.5975 716.91 Q25.8099 716.91 23.4228 719.584 Q21.0356 722.225 21.0356 726.49 Q21.0356 729.514 22.086 732.888 Q23.1363 736.23 25.2688 740.049 L18.7758 740.049 Q17.2162 736.166 16.4205 732.792 Q15.6248 729.419 15.6248 726.618 Q15.6248 719.233 19.3169 714.841 Q23.009 710.449 29.1837 710.449 Q32.112 710.449 34.7537 711.563 Q37.3637 712.645 40.9285 715.541 Q41.8515 716.337 46.2757 720.602 Q50.668 724.867 58.5933 732.633 Z\" fill=\"#000000\" fill-rule=\"nonzero\" fill-opacity=\"1\" /><path clip-path=\"url(#clip440)\" d=\"M792.15 18.8205 L792.15 41.5461 L802.439 41.5461 Q808.151 41.5461 811.27 38.5889 Q814.389 35.6318 814.389 30.163 Q814.389 24.7348 811.27 21.7777 Q808.151 18.8205 802.439 18.8205 L792.15 18.8205 M783.967 12.096 L802.439 12.096 Q812.607 12.096 817.792 16.714 Q823.018 21.2916 823.018 30.163 Q823.018 39.1155 817.792 43.6931 Q812.607 48.2706 802.439 48.2706 L792.15 48.2706 L792.15 72.576 L783.967 72.576 L783.967 12.096 Z\" fill=\"#000000\" fill-rule=\"nonzero\" fill-opacity=\"1\" /><path clip-path=\"url(#clip440)\" d=\"M833.672 9.54393 L841.125 9.54393 L841.125 72.576 L833.672 72.576 L833.672 9.54393 Z\" fill=\"#000000\" fill-rule=\"nonzero\" fill-opacity=\"1\" /><path clip-path=\"url(#clip440)\" d=\"M874.302 32.4315 Q868.307 32.4315 864.823 37.1306 Q861.339 41.7891 861.339 49.9314 Q861.339 58.0738 864.783 62.7728 Q868.266 67.4314 874.302 67.4314 Q880.257 67.4314 883.741 62.7323 Q887.225 58.0333 887.225 49.9314 Q887.225 41.8701 883.741 37.1711 Q880.257 32.4315 874.302 32.4315 M874.302 26.1121 Q884.024 26.1121 889.574 32.4315 Q895.124 38.7509 895.124 49.9314 Q895.124 61.0714 889.574 67.4314 Q884.024 73.7508 874.302 73.7508 Q864.54 73.7508 858.99 67.4314 Q853.481 61.0714 853.481 49.9314 Q853.481 38.7509 858.99 32.4315 Q864.54 26.1121 874.302 26.1121 Z\" fill=\"#000000\" fill-rule=\"nonzero\" fill-opacity=\"1\" /><path clip-path=\"url(#clip440)\" d=\"M914.852 14.324 L914.852 27.2059 L930.205 27.2059 L930.205 32.9987 L914.852 32.9987 L914.852 57.6282 Q914.852 63.1779 916.351 64.7578 Q917.89 66.3376 922.549 66.3376 L930.205 66.3376 L930.205 72.576 L922.549 72.576 Q913.92 72.576 910.639 69.3758 Q907.358 66.1351 907.358 57.6282 L907.358 32.9987 L901.889 32.9987 L901.889 27.2059 L907.358 27.2059 L907.358 14.324 L914.852 14.324 Z\" fill=\"#000000\" fill-rule=\"nonzero\" fill-opacity=\"1\" /><path clip-path=\"url(#clip440)\" d=\"M983.96 32.4315 Q977.965 32.4315 974.481 37.1306 Q970.997 41.7891 970.997 49.9314 Q970.997 58.0738 974.441 62.7728 Q977.924 67.4314 983.96 67.4314 Q989.915 67.4314 993.399 62.7323 Q996.883 58.0333 996.883 49.9314 Q996.883 41.8701 993.399 37.1711 Q989.915 32.4315 983.96 32.4315 M983.96 26.1121 Q993.682 26.1121 999.232 32.4315 Q1004.78 38.7509 1004.78 49.9314 Q1004.78 61.0714 999.232 67.4314 Q993.682 73.7508 983.96 73.7508 Q974.198 73.7508 968.648 67.4314 Q963.139 61.0714 963.139 49.9314 Q963.139 38.7509 968.648 32.4315 Q974.198 26.1121 983.96 26.1121 Z\" fill=\"#000000\" fill-rule=\"nonzero\" fill-opacity=\"1\" /><path clip-path=\"url(#clip440)\" d=\"M1040.11 9.54393 L1040.11 15.7418 L1032.98 15.7418 Q1028.97 15.7418 1027.39 17.3622 Q1025.85 18.9825 1025.85 23.1955 L1025.85 27.2059 L1038.12 27.2059 L1038.12 32.9987 L1025.85 32.9987 L1025.85 72.576 L1018.35 72.576 L1018.35 32.9987 L1011.22 32.9987 L1011.22 27.2059 L1018.35 27.2059 L1018.35 24.0462 Q1018.35 16.471 1021.88 13.0277 Q1025.4 9.54393 1033.06 9.54393 L1040.11 9.54393 Z\" fill=\"#000000\" fill-rule=\"nonzero\" fill-opacity=\"1\" /><path clip-path=\"url(#clip440)\" d=\"M1110.43 27.2059 L1094.02 49.2833 L1111.28 72.576 L1102.49 72.576 L1089.28 54.752 L1076.08 72.576 L1067.29 72.576 L1084.91 48.8377 L1068.79 27.2059 L1077.58 27.2059 L1089.61 43.369 L1101.64 27.2059 L1110.43 27.2059 Z\" fill=\"#000000\" fill-rule=\"nonzero\" fill-opacity=\"1\" /><path clip-path=\"url(#clip440)\" d=\"M1152.72 12.096 L1174.72 34.6595 L1166.58 34.6595 L1148.75 18.6585 L1130.93 34.6595 L1122.78 34.6595 L1144.78 12.096 L1152.72 12.096 Z\" fill=\"#000000\" fill-rule=\"nonzero\" fill-opacity=\"1\" /><path clip-path=\"url(#clip440)\" d=\"M1199.43 65.6895 L1227.99 65.6895 L1227.99 72.576 L1189.58 72.576 L1189.58 65.6895 Q1194.24 60.8689 1202.26 52.7671 Q1210.32 44.6248 1212.39 42.2752 Q1216.32 37.8598 1217.86 34.8216 Q1219.44 31.7429 1219.44 28.7857 Q1219.44 23.9651 1216.04 20.927 Q1212.67 17.8888 1207.25 17.8888 Q1203.4 17.8888 1199.1 19.2256 Q1194.85 20.5624 1189.99 23.2765 L1189.99 15.0127 Q1194.93 13.0277 1199.23 12.015 Q1203.52 11.0023 1207.08 11.0023 Q1216.48 11.0023 1222.07 15.7013 Q1227.66 20.4004 1227.66 28.2591 Q1227.66 31.9859 1226.24 35.3482 Q1224.87 38.6699 1221.18 43.2069 Q1220.17 44.3817 1214.74 50.0125 Q1209.31 55.6027 1199.43 65.6895 Z\" fill=\"#000000\" fill-rule=\"nonzero\" fill-opacity=\"1\" /><path clip-path=\"url(#clip440)\" d=\"M1246.01 62.2867 L1254.56 62.2867 L1254.56 69.2543 L1247.92 82.2172 L1242.69 82.2172 L1246.01 69.2543 L1246.01 62.2867 Z\" fill=\"#000000\" fill-rule=\"nonzero\" fill-opacity=\"1\" /><path clip-path=\"url(#clip440)\" d=\"M1319.82 9.54393 L1319.82 15.7418 L1312.69 15.7418 Q1308.68 15.7418 1307.1 17.3622 Q1305.56 18.9825 1305.56 23.1955 L1305.56 27.2059 L1317.84 27.2059 L1317.84 32.9987 L1305.56 32.9987 L1305.56 72.576 L1298.07 72.576 L1298.07 32.9987 L1290.94 32.9987 L1290.94 27.2059 L1298.07 27.2059 L1298.07 24.0462 Q1298.07 16.471 1301.59 13.0277 Q1305.12 9.54393 1312.77 9.54393 L1319.82 9.54393 Z\" fill=\"#000000\" fill-rule=\"nonzero\" fill-opacity=\"1\" /><path clip-path=\"url(#clip440)\" d=\"M1352.35 34.1734 Q1351.09 33.4443 1349.59 33.1202 Q1348.14 32.7556 1346.35 32.7556 Q1340.03 32.7556 1336.63 36.8875 Q1333.27 40.9789 1333.27 48.6757 L1333.27 72.576 L1325.78 72.576 L1325.78 27.2059 L1333.27 27.2059 L1333.27 34.2544 Q1335.62 30.1225 1339.39 28.1376 Q1343.15 26.1121 1348.54 26.1121 Q1349.31 26.1121 1350.24 26.2337 Q1351.17 26.3147 1352.31 26.5172 L1352.35 34.1734 Z\" fill=\"#000000\" fill-rule=\"nonzero\" fill-opacity=\"1\" /><path clip-path=\"url(#clip440)\" d=\"M1375.93 32.4315 Q1369.93 32.4315 1366.45 37.1306 Q1362.96 41.7891 1362.96 49.9314 Q1362.96 58.0738 1366.41 62.7728 Q1369.89 67.4314 1375.93 67.4314 Q1381.88 67.4314 1385.36 62.7323 Q1388.85 58.0333 1388.85 49.9314 Q1388.85 41.8701 1385.36 37.1711 Q1381.88 32.4315 1375.93 32.4315 M1375.93 26.1121 Q1385.65 26.1121 1391.2 32.4315 Q1396.75 38.7509 1396.75 49.9314 Q1396.75 61.0714 1391.2 67.4314 Q1385.65 73.7508 1375.93 73.7508 Q1366.16 73.7508 1360.61 67.4314 Q1355.1 61.0714 1355.1 49.9314 Q1355.1 38.7509 1360.61 32.4315 Q1366.16 26.1121 1375.93 26.1121 Z\" fill=\"#000000\" fill-rule=\"nonzero\" fill-opacity=\"1\" /><path clip-path=\"url(#clip440)\" d=\"M1444.43 35.9153 Q1447.22 30.8922 1451.11 28.5022 Q1455 26.1121 1460.27 26.1121 Q1467.35 26.1121 1471.2 31.0947 Q1475.05 36.0368 1475.05 45.1919 L1475.05 72.576 L1467.56 72.576 L1467.56 45.4349 Q1467.56 38.913 1465.25 35.7533 Q1462.94 32.5936 1458.2 32.5936 Q1452.41 32.5936 1449.04 36.4419 Q1445.68 40.2903 1445.68 46.9338 L1445.68 72.576 L1438.19 72.576 L1438.19 45.4349 Q1438.19 38.8725 1435.88 35.7533 Q1433.57 32.5936 1428.75 32.5936 Q1423.04 32.5936 1419.68 36.4824 Q1416.31 40.3308 1416.31 46.9338 L1416.31 72.576 L1408.82 72.576 L1408.82 27.2059 L1416.31 27.2059 L1416.31 34.2544 Q1418.87 30.082 1422.43 28.0971 Q1425.99 26.1121 1430.9 26.1121 Q1435.84 26.1121 1439.28 28.6237 Q1442.77 31.1352 1444.43 35.9153 Z\" fill=\"#000000\" fill-rule=\"nonzero\" fill-opacity=\"1\" /><path clip-path=\"url(#clip440)\" d=\"M1512.52 46.5287 L1534.36 46.5287 L1534.36 53.1722 L1512.52 53.1722 L1512.52 46.5287 Z\" fill=\"#000000\" fill-rule=\"nonzero\" fill-opacity=\"1\" /><path clip-path=\"url(#clip440)\" d=\"M1547.36 12.096 L1579.48 12.096 L1579.48 18.9825 L1554.85 18.9825 L1554.85 33.8088 Q1556.64 33.2012 1558.42 32.9176 Q1560.2 32.5936 1561.98 32.5936 Q1572.11 32.5936 1578.03 38.1433 Q1583.94 43.6931 1583.94 53.1722 Q1583.94 62.9348 1577.86 68.3631 Q1571.79 73.7508 1560.73 73.7508 Q1556.92 73.7508 1552.95 73.1026 Q1549.02 72.4545 1544.81 71.1582 L1544.81 62.9348 Q1548.45 64.9198 1552.34 65.892 Q1556.23 66.8642 1560.57 66.8642 Q1567.57 66.8642 1571.67 63.1779 Q1575.76 59.4916 1575.76 53.1722 Q1575.76 46.8528 1571.67 43.1664 Q1567.57 39.4801 1560.57 39.4801 Q1557.28 39.4801 1554 40.2093 Q1550.76 40.9384 1547.36 42.4778 L1547.36 12.096 Z\" fill=\"#000000\" fill-rule=\"nonzero\" fill-opacity=\"1\" /><path clip-path=\"url(#clip440)\" d=\"M1632.75 14.324 L1632.75 27.2059 L1648.11 27.2059 L1648.11 32.9987 L1632.75 32.9987 L1632.75 57.6282 Q1632.75 63.1779 1634.25 64.7578 Q1635.79 66.3376 1640.45 66.3376 L1648.11 66.3376 L1648.11 72.576 L1640.45 72.576 Q1631.82 72.576 1628.54 69.3758 Q1625.26 66.1351 1625.26 57.6282 L1625.26 32.9987 L1619.79 32.9987 L1619.79 27.2059 L1625.26 27.2059 L1625.26 14.324 L1632.75 14.324 Z\" fill=\"#000000\" fill-rule=\"nonzero\" fill-opacity=\"1\" /><path clip-path=\"url(#clip440)\" d=\"M1675.49 32.4315 Q1669.49 32.4315 1666.01 37.1306 Q1662.53 41.7891 1662.53 49.9314 Q1662.53 58.0738 1665.97 62.7728 Q1669.45 67.4314 1675.49 67.4314 Q1681.44 67.4314 1684.93 62.7323 Q1688.41 58.0333 1688.41 49.9314 Q1688.41 41.8701 1684.93 37.1711 Q1681.44 32.4315 1675.49 32.4315 M1675.49 26.1121 Q1685.21 26.1121 1690.76 32.4315 Q1696.31 38.7509 1696.31 49.9314 Q1696.31 61.0714 1690.76 67.4314 Q1685.21 73.7508 1675.49 73.7508 Q1665.73 73.7508 1660.18 67.4314 Q1654.67 61.0714 1654.67 49.9314 Q1654.67 38.7509 1660.18 32.4315 Q1665.73 26.1121 1675.49 26.1121 Z\" fill=\"#000000\" fill-rule=\"nonzero\" fill-opacity=\"1\" /><path clip-path=\"url(#clip440)\" d=\"M1736.17 12.096 L1768.3 12.096 L1768.3 18.9825 L1743.67 18.9825 L1743.67 33.8088 Q1745.45 33.2012 1747.23 32.9176 Q1749.01 32.5936 1750.8 32.5936 Q1760.92 32.5936 1766.84 38.1433 Q1772.75 43.6931 1772.75 53.1722 Q1772.75 62.9348 1766.68 68.3631 Q1760.6 73.7508 1749.54 73.7508 Q1745.73 73.7508 1741.76 73.1026 Q1737.83 72.4545 1733.62 71.1582 L1733.62 62.9348 Q1737.27 64.9198 1741.16 65.892 Q1745.04 66.8642 1749.38 66.8642 Q1756.39 66.8642 1760.48 63.1779 Q1764.57 59.4916 1764.57 53.1722 Q1764.57 46.8528 1760.48 43.1664 Q1756.39 39.4801 1749.38 39.4801 Q1746.1 39.4801 1742.82 40.2093 Q1739.58 40.9384 1736.17 42.4778 L1736.17 12.096 Z\" fill=\"#000000\" fill-rule=\"nonzero\" fill-opacity=\"1\" /><polyline clip-path=\"url(#clip442)\" style=\"stroke:#009af9; stroke-linecap:round; stroke-linejoin:round; stroke-width:4; stroke-opacity:1; fill:none\" points=\"264.778,160.256 467.495,601.666 670.211,944.985 872.927,1190.21 1075.64,1337.35 1278.36,1386.4 1481.08,1337.35 1683.79,1190.21 1886.51,944.985 2089.22,601.666 2291.94,160.256 \"/>\n",
              "</svg>\n"
            ],
            "text/html": [
              "<?xml version=\"1.0\" encoding=\"utf-8\"?>\n",
              "<svg xmlns=\"http://www.w3.org/2000/svg\" xmlns:xlink=\"http://www.w3.org/1999/xlink\" width=\"600\" height=\"400\" viewBox=\"0 0 2400 1600\">\n",
              "<defs>\n",
              "  <clipPath id=\"clip490\">\n",
              "    <rect x=\"0\" y=\"0\" width=\"2400\" height=\"1600\"/>\n",
              "  </clipPath>\n",
              "</defs>\n",
              "<path clip-path=\"url(#clip490)\" d=\"M0 1600 L2400 1600 L2400 0 L0 0  Z\" fill=\"#ffffff\" fill-rule=\"evenodd\" fill-opacity=\"1\"/>\n",
              "<defs>\n",
              "  <clipPath id=\"clip491\">\n",
              "    <rect x=\"480\" y=\"0\" width=\"1681\" height=\"1600\"/>\n",
              "  </clipPath>\n",
              "</defs>\n",
              "<path clip-path=\"url(#clip490)\" d=\"M203.964 1423.18 L2352.76 1423.18 L2352.76 123.472 L203.964 123.472  Z\" fill=\"#ffffff\" fill-rule=\"evenodd\" fill-opacity=\"1\"/>\n",
              "<defs>\n",
              "  <clipPath id=\"clip492\">\n",
              "    <rect x=\"203\" y=\"123\" width=\"2150\" height=\"1301\"/>\n",
              "  </clipPath>\n",
              "</defs>\n",
              "<polyline clip-path=\"url(#clip492)\" style=\"stroke:#000000; stroke-linecap:round; stroke-linejoin:round; stroke-width:2; stroke-opacity:0.1; fill:none\" points=\"467.495,1423.18 467.495,123.472 \"/>\n",
              "<polyline clip-path=\"url(#clip492)\" style=\"stroke:#000000; stroke-linecap:round; stroke-linejoin:round; stroke-width:2; stroke-opacity:0.1; fill:none\" points=\"872.927,1423.18 872.927,123.472 \"/>\n",
              "<polyline clip-path=\"url(#clip492)\" style=\"stroke:#000000; stroke-linecap:round; stroke-linejoin:round; stroke-width:2; stroke-opacity:0.1; fill:none\" points=\"1278.36,1423.18 1278.36,123.472 \"/>\n",
              "<polyline clip-path=\"url(#clip492)\" style=\"stroke:#000000; stroke-linecap:round; stroke-linejoin:round; stroke-width:2; stroke-opacity:0.1; fill:none\" points=\"1683.79,1423.18 1683.79,123.472 \"/>\n",
              "<polyline clip-path=\"url(#clip492)\" style=\"stroke:#000000; stroke-linecap:round; stroke-linejoin:round; stroke-width:2; stroke-opacity:0.1; fill:none\" points=\"2089.22,1423.18 2089.22,123.472 \"/>\n",
              "<polyline clip-path=\"url(#clip490)\" style=\"stroke:#000000; stroke-linecap:round; stroke-linejoin:round; stroke-width:4; stroke-opacity:1; fill:none\" points=\"203.964,1423.18 2352.76,1423.18 \"/>\n",
              "<polyline clip-path=\"url(#clip490)\" style=\"stroke:#000000; stroke-linecap:round; stroke-linejoin:round; stroke-width:4; stroke-opacity:1; fill:none\" points=\"467.495,1423.18 467.495,1404.28 \"/>\n",
              "<polyline clip-path=\"url(#clip490)\" style=\"stroke:#000000; stroke-linecap:round; stroke-linejoin:round; stroke-width:4; stroke-opacity:1; fill:none\" points=\"872.927,1423.18 872.927,1404.28 \"/>\n",
              "<polyline clip-path=\"url(#clip490)\" style=\"stroke:#000000; stroke-linecap:round; stroke-linejoin:round; stroke-width:4; stroke-opacity:1; fill:none\" points=\"1278.36,1423.18 1278.36,1404.28 \"/>\n",
              "<polyline clip-path=\"url(#clip490)\" style=\"stroke:#000000; stroke-linecap:round; stroke-linejoin:round; stroke-width:4; stroke-opacity:1; fill:none\" points=\"1683.79,1423.18 1683.79,1404.28 \"/>\n",
              "<polyline clip-path=\"url(#clip490)\" style=\"stroke:#000000; stroke-linecap:round; stroke-linejoin:round; stroke-width:4; stroke-opacity:1; fill:none\" points=\"2089.22,1423.18 2089.22,1404.28 \"/>\n",
              "<path clip-path=\"url(#clip490)\" d=\"M436.395 1468.75 L466.071 1468.75 L466.071 1472.69 L436.395 1472.69 L436.395 1468.75 Z\" fill=\"#000000\" fill-rule=\"nonzero\" fill-opacity=\"1\" /><path clip-path=\"url(#clip490)\" d=\"M489.011 1455.09 L477.205 1473.54 L489.011 1473.54 L489.011 1455.09 M487.784 1451.02 L493.664 1451.02 L493.664 1473.54 L498.594 1473.54 L498.594 1477.43 L493.664 1477.43 L493.664 1485.58 L489.011 1485.58 L489.011 1477.43 L473.409 1477.43 L473.409 1472.92 L487.784 1451.02 Z\" fill=\"#000000\" fill-rule=\"nonzero\" fill-opacity=\"1\" /><path clip-path=\"url(#clip490)\" d=\"M842.87 1468.75 L872.545 1468.75 L872.545 1472.69 L842.87 1472.69 L842.87 1468.75 Z\" fill=\"#000000\" fill-rule=\"nonzero\" fill-opacity=\"1\" /><path clip-path=\"url(#clip490)\" d=\"M886.666 1481.64 L902.985 1481.64 L902.985 1485.58 L881.041 1485.58 L881.041 1481.64 Q883.703 1478.89 888.286 1474.26 Q892.892 1469.61 894.073 1468.27 Q896.318 1465.74 897.198 1464.01 Q898.101 1462.25 898.101 1460.56 Q898.101 1457.8 896.156 1456.07 Q894.235 1454.33 891.133 1454.33 Q888.934 1454.33 886.48 1455.09 Q884.05 1455.86 881.272 1457.41 L881.272 1452.69 Q884.096 1451.55 886.55 1450.97 Q889.004 1450.39 891.041 1450.39 Q896.411 1450.39 899.605 1453.08 Q902.8 1455.77 902.8 1460.26 Q902.8 1462.39 901.99 1464.31 Q901.203 1466.2 899.096 1468.8 Q898.517 1469.47 895.416 1472.69 Q892.314 1475.88 886.666 1481.64 Z\" fill=\"#000000\" fill-rule=\"nonzero\" fill-opacity=\"1\" /><path clip-path=\"url(#clip490)\" d=\"M1278.36 1454.1 Q1274.75 1454.1 1272.92 1457.66 Q1271.11 1461.2 1271.11 1468.33 Q1271.11 1475.44 1272.92 1479.01 Q1274.75 1482.55 1278.36 1482.55 Q1281.99 1482.55 1283.8 1479.01 Q1285.63 1475.44 1285.63 1468.33 Q1285.63 1461.2 1283.8 1457.66 Q1281.99 1454.1 1278.36 1454.1 M1278.36 1450.39 Q1284.17 1450.39 1287.23 1455 Q1290.3 1459.58 1290.3 1468.33 Q1290.3 1477.06 1287.23 1481.67 Q1284.17 1486.25 1278.36 1486.25 Q1272.55 1486.25 1269.47 1481.67 Q1266.42 1477.06 1266.42 1468.33 Q1266.42 1459.58 1269.47 1455 Q1272.55 1450.39 1278.36 1450.39 Z\" fill=\"#000000\" fill-rule=\"nonzero\" fill-opacity=\"1\" /><path clip-path=\"url(#clip490)\" d=\"M1678.45 1481.64 L1694.76 1481.64 L1694.76 1485.58 L1672.82 1485.58 L1672.82 1481.64 Q1675.48 1478.89 1680.07 1474.26 Q1684.67 1469.61 1685.85 1468.27 Q1688.1 1465.74 1688.98 1464.01 Q1689.88 1462.25 1689.88 1460.56 Q1689.88 1457.8 1687.94 1456.07 Q1686.01 1454.33 1682.91 1454.33 Q1680.71 1454.33 1678.26 1455.09 Q1675.83 1455.86 1673.05 1457.41 L1673.05 1452.69 Q1675.88 1451.55 1678.33 1450.97 Q1680.78 1450.39 1682.82 1450.39 Q1688.19 1450.39 1691.38 1453.08 Q1694.58 1455.77 1694.58 1460.26 Q1694.58 1462.39 1693.77 1464.31 Q1692.98 1466.2 1690.88 1468.8 Q1690.3 1469.47 1687.2 1472.69 Q1684.09 1475.88 1678.45 1481.64 Z\" fill=\"#000000\" fill-rule=\"nonzero\" fill-opacity=\"1\" /><path clip-path=\"url(#clip490)\" d=\"M2092.23 1455.09 L2080.43 1473.54 L2092.23 1473.54 L2092.23 1455.09 M2091.01 1451.02 L2096.89 1451.02 L2096.89 1473.54 L2101.82 1473.54 L2101.82 1477.43 L2096.89 1477.43 L2096.89 1485.58 L2092.23 1485.58 L2092.23 1477.43 L2076.63 1477.43 L2076.63 1472.92 L2091.01 1451.02 Z\" fill=\"#000000\" fill-rule=\"nonzero\" fill-opacity=\"1\" /><path clip-path=\"url(#clip490)\" d=\"M1294.97 1532.4 L1282.08 1549.74 L1295.64 1568.04 L1288.74 1568.04 L1278.36 1554.04 L1267.98 1568.04 L1261.08 1568.04 L1274.92 1549.39 L1262.25 1532.4 L1269.16 1532.4 L1278.61 1545.1 L1288.07 1532.4 L1294.97 1532.4 Z\" fill=\"#000000\" fill-rule=\"nonzero\" fill-opacity=\"1\" /><polyline clip-path=\"url(#clip492)\" style=\"stroke:#000000; stroke-linecap:round; stroke-linejoin:round; stroke-width:2; stroke-opacity:0.1; fill:none\" points=\"203.964,1386.4 2352.76,1386.4 \"/>\n",
              "<polyline clip-path=\"url(#clip492)\" style=\"stroke:#000000; stroke-linecap:round; stroke-linejoin:round; stroke-width:2; stroke-opacity:0.1; fill:none\" points=\"203.964,1141.17 2352.76,1141.17 \"/>\n",
              "<polyline clip-path=\"url(#clip492)\" style=\"stroke:#000000; stroke-linecap:round; stroke-linejoin:round; stroke-width:2; stroke-opacity:0.1; fill:none\" points=\"203.964,895.94 2352.76,895.94 \"/>\n",
              "<polyline clip-path=\"url(#clip492)\" style=\"stroke:#000000; stroke-linecap:round; stroke-linejoin:round; stroke-width:2; stroke-opacity:0.1; fill:none\" points=\"203.964,650.712 2352.76,650.712 \"/>\n",
              "<polyline clip-path=\"url(#clip492)\" style=\"stroke:#000000; stroke-linecap:round; stroke-linejoin:round; stroke-width:2; stroke-opacity:0.1; fill:none\" points=\"203.964,405.484 2352.76,405.484 \"/>\n",
              "<polyline clip-path=\"url(#clip492)\" style=\"stroke:#000000; stroke-linecap:round; stroke-linejoin:round; stroke-width:2; stroke-opacity:0.1; fill:none\" points=\"203.964,160.256 2352.76,160.256 \"/>\n",
              "<polyline clip-path=\"url(#clip490)\" style=\"stroke:#000000; stroke-linecap:round; stroke-linejoin:round; stroke-width:4; stroke-opacity:1; fill:none\" points=\"203.964,1423.18 203.964,123.472 \"/>\n",
              "<polyline clip-path=\"url(#clip490)\" style=\"stroke:#000000; stroke-linecap:round; stroke-linejoin:round; stroke-width:4; stroke-opacity:1; fill:none\" points=\"203.964,1386.4 222.861,1386.4 \"/>\n",
              "<polyline clip-path=\"url(#clip490)\" style=\"stroke:#000000; stroke-linecap:round; stroke-linejoin:round; stroke-width:4; stroke-opacity:1; fill:none\" points=\"203.964,1141.17 222.861,1141.17 \"/>\n",
              "<polyline clip-path=\"url(#clip490)\" style=\"stroke:#000000; stroke-linecap:round; stroke-linejoin:round; stroke-width:4; stroke-opacity:1; fill:none\" points=\"203.964,895.94 222.861,895.94 \"/>\n",
              "<polyline clip-path=\"url(#clip490)\" style=\"stroke:#000000; stroke-linecap:round; stroke-linejoin:round; stroke-width:4; stroke-opacity:1; fill:none\" points=\"203.964,650.712 222.861,650.712 \"/>\n",
              "<polyline clip-path=\"url(#clip490)\" style=\"stroke:#000000; stroke-linecap:round; stroke-linejoin:round; stroke-width:4; stroke-opacity:1; fill:none\" points=\"203.964,405.484 222.861,405.484 \"/>\n",
              "<polyline clip-path=\"url(#clip490)\" style=\"stroke:#000000; stroke-linecap:round; stroke-linejoin:round; stroke-width:4; stroke-opacity:1; fill:none\" points=\"203.964,160.256 222.861,160.256 \"/>\n",
              "<path clip-path=\"url(#clip490)\" d=\"M156.019 1372.19 Q152.408 1372.19 150.579 1375.76 Q148.774 1379.3 148.774 1386.43 Q148.774 1393.54 150.579 1397.1 Q152.408 1400.64 156.019 1400.64 Q159.653 1400.64 161.459 1397.1 Q163.288 1393.54 163.288 1386.43 Q163.288 1379.3 161.459 1375.76 Q159.653 1372.19 156.019 1372.19 M156.019 1368.49 Q161.829 1368.49 164.885 1373.1 Q167.964 1377.68 167.964 1386.43 Q167.964 1395.16 164.885 1399.76 Q161.829 1404.35 156.019 1404.35 Q150.209 1404.35 147.13 1399.76 Q144.075 1395.16 144.075 1386.43 Q144.075 1377.68 147.13 1373.1 Q150.209 1368.49 156.019 1368.49 Z\" fill=\"#000000\" fill-rule=\"nonzero\" fill-opacity=\"1\" /><path clip-path=\"url(#clip490)\" d=\"M147.061 1123.89 L165.417 1123.89 L165.417 1127.82 L151.343 1127.82 L151.343 1136.3 Q152.362 1135.95 153.38 1135.79 Q154.399 1135.6 155.417 1135.6 Q161.204 1135.6 164.584 1138.77 Q167.964 1141.94 167.964 1147.36 Q167.964 1152.94 164.491 1156.04 Q161.019 1159.12 154.7 1159.12 Q152.524 1159.12 150.255 1158.75 Q148.01 1158.38 145.603 1157.64 L145.603 1152.94 Q147.686 1154.07 149.908 1154.63 Q152.13 1155.18 154.607 1155.18 Q158.612 1155.18 160.95 1153.08 Q163.288 1150.97 163.288 1147.36 Q163.288 1143.75 160.95 1141.64 Q158.612 1139.54 154.607 1139.54 Q152.732 1139.54 150.857 1139.95 Q149.005 1140.37 147.061 1141.25 L147.061 1123.89 Z\" fill=\"#000000\" fill-rule=\"nonzero\" fill-opacity=\"1\" /><path clip-path=\"url(#clip490)\" d=\"M116.668 909.285 L124.306 909.285 L124.306 882.919 L115.996 884.586 L115.996 880.327 L124.26 878.66 L128.936 878.66 L128.936 909.285 L136.575 909.285 L136.575 913.22 L116.668 913.22 L116.668 909.285 Z\" fill=\"#000000\" fill-rule=\"nonzero\" fill-opacity=\"1\" /><path clip-path=\"url(#clip490)\" d=\"M156.019 881.739 Q152.408 881.739 150.579 885.303 Q148.774 888.845 148.774 895.975 Q148.774 903.081 150.579 906.646 Q152.408 910.188 156.019 910.188 Q159.653 910.188 161.459 906.646 Q163.288 903.081 163.288 895.975 Q163.288 888.845 161.459 885.303 Q159.653 881.739 156.019 881.739 M156.019 878.035 Q161.829 878.035 164.885 882.641 Q167.964 887.225 167.964 895.975 Q167.964 904.701 164.885 909.308 Q161.829 913.891 156.019 913.891 Q150.209 913.891 147.13 909.308 Q144.075 904.701 144.075 895.975 Q144.075 887.225 147.13 882.641 Q150.209 878.035 156.019 878.035 Z\" fill=\"#000000\" fill-rule=\"nonzero\" fill-opacity=\"1\" /><path clip-path=\"url(#clip490)\" d=\"M117.663 664.057 L125.302 664.057 L125.302 637.691 L116.992 639.358 L116.992 635.099 L125.255 633.432 L129.931 633.432 L129.931 664.057 L137.57 664.057 L137.57 667.992 L117.663 667.992 L117.663 664.057 Z\" fill=\"#000000\" fill-rule=\"nonzero\" fill-opacity=\"1\" /><path clip-path=\"url(#clip490)\" d=\"M147.061 633.432 L165.417 633.432 L165.417 637.367 L151.343 637.367 L151.343 645.839 Q152.362 645.492 153.38 645.33 Q154.399 645.145 155.417 645.145 Q161.204 645.145 164.584 648.316 Q167.964 651.488 167.964 656.904 Q167.964 662.483 164.491 665.585 Q161.019 668.663 154.7 668.663 Q152.524 668.663 150.255 668.293 Q148.01 667.923 145.603 667.182 L145.603 662.483 Q147.686 663.617 149.908 664.173 Q152.13 664.728 154.607 664.728 Q158.612 664.728 160.95 662.622 Q163.288 660.515 163.288 656.904 Q163.288 653.293 160.95 651.187 Q158.612 649.08 154.607 649.08 Q152.732 649.08 150.857 649.497 Q149.005 649.913 147.061 650.793 L147.061 633.432 Z\" fill=\"#000000\" fill-rule=\"nonzero\" fill-opacity=\"1\" /><path clip-path=\"url(#clip490)\" d=\"M119.885 418.829 L136.204 418.829 L136.204 422.764 L114.26 422.764 L114.26 418.829 Q116.922 416.074 121.505 411.445 Q126.112 406.792 127.292 405.449 Q129.538 402.926 130.417 401.19 Q131.32 399.431 131.32 397.741 Q131.32 394.987 129.376 393.25 Q127.455 391.514 124.353 391.514 Q122.154 391.514 119.7 392.278 Q117.269 393.042 114.492 394.593 L114.492 389.871 Q117.316 388.737 119.769 388.158 Q122.223 387.579 124.26 387.579 Q129.63 387.579 132.825 390.264 Q136.019 392.95 136.019 397.44 Q136.019 399.57 135.209 401.491 Q134.422 403.389 132.316 405.982 Q131.737 406.653 128.635 409.871 Q125.533 413.065 119.885 418.829 Z\" fill=\"#000000\" fill-rule=\"nonzero\" fill-opacity=\"1\" /><path clip-path=\"url(#clip490)\" d=\"M156.019 391.283 Q152.408 391.283 150.579 394.848 Q148.774 398.389 148.774 405.519 Q148.774 412.625 150.579 416.19 Q152.408 419.732 156.019 419.732 Q159.653 419.732 161.459 416.19 Q163.288 412.625 163.288 405.519 Q163.288 398.389 161.459 394.848 Q159.653 391.283 156.019 391.283 M156.019 387.579 Q161.829 387.579 164.885 392.186 Q167.964 396.769 167.964 405.519 Q167.964 414.246 164.885 418.852 Q161.829 423.435 156.019 423.435 Q150.209 423.435 147.13 418.852 Q144.075 414.246 144.075 405.519 Q144.075 396.769 147.13 392.186 Q150.209 387.579 156.019 387.579 Z\" fill=\"#000000\" fill-rule=\"nonzero\" fill-opacity=\"1\" /><path clip-path=\"url(#clip490)\" d=\"M120.88 173.601 L137.2 173.601 L137.2 177.536 L115.256 177.536 L115.256 173.601 Q117.918 170.847 122.501 166.217 Q127.107 161.564 128.288 160.222 Q130.533 157.698 131.413 155.962 Q132.316 154.203 132.316 152.513 Q132.316 149.759 130.371 148.023 Q128.45 146.286 125.348 146.286 Q123.149 146.286 120.695 147.05 Q118.265 147.814 115.487 149.365 L115.487 144.643 Q118.311 143.509 120.765 142.93 Q123.218 142.351 125.255 142.351 Q130.626 142.351 133.82 145.036 Q137.015 147.722 137.015 152.212 Q137.015 154.342 136.204 156.263 Q135.417 158.161 133.311 160.754 Q132.732 161.425 129.63 164.643 Q126.529 167.837 120.88 173.601 Z\" fill=\"#000000\" fill-rule=\"nonzero\" fill-opacity=\"1\" /><path clip-path=\"url(#clip490)\" d=\"M147.061 142.976 L165.417 142.976 L165.417 146.911 L151.343 146.911 L151.343 155.384 Q152.362 155.036 153.38 154.874 Q154.399 154.689 155.417 154.689 Q161.204 154.689 164.584 157.86 Q167.964 161.032 167.964 166.448 Q167.964 172.027 164.491 175.129 Q161.019 178.208 154.7 178.208 Q152.524 178.208 150.255 177.837 Q148.01 177.467 145.603 176.726 L145.603 172.027 Q147.686 173.161 149.908 173.717 Q152.13 174.272 154.607 174.272 Q158.612 174.272 160.95 172.166 Q163.288 170.059 163.288 166.448 Q163.288 162.837 160.95 160.731 Q158.612 158.624 154.607 158.624 Q152.732 158.624 150.857 159.041 Q149.005 159.458 147.061 160.337 L147.061 142.976 Z\" fill=\"#000000\" fill-rule=\"nonzero\" fill-opacity=\"1\" /><path clip-path=\"url(#clip490)\" d=\"M28.3562 802.56 L45.7028 815.451 L64.0042 801.892 L64.0042 808.799 L49.9996 819.175 L64.0042 829.551 L64.0042 836.458 L45.3526 822.612 L28.3562 835.28 L28.3562 828.373 L41.0558 818.92 L28.3562 809.467 L28.3562 802.56 Z\" fill=\"#000000\" fill-rule=\"nonzero\" fill-opacity=\"1\" /><path clip-path=\"url(#clip490)\" d=\"M16.4842 769.332 L34.2127 752.049 L34.2127 758.446 L21.6404 772.451 L34.2127 786.455 L34.2127 792.853 L16.4842 775.57 L16.4842 769.332 Z\" fill=\"#000000\" fill-rule=\"nonzero\" fill-opacity=\"1\" /><path clip-path=\"url(#clip490)\" d=\"M58.5933 732.633 L58.5933 710.194 L64.0042 710.194 L64.0042 740.368 L58.5933 740.368 Q54.8057 736.707 48.44 730.405 Q42.0425 724.071 40.1964 722.448 Q36.7271 719.361 34.34 718.151 Q31.921 716.91 29.5975 716.91 Q25.8099 716.91 23.4228 719.584 Q21.0356 722.225 21.0356 726.49 Q21.0356 729.514 22.086 732.888 Q23.1363 736.23 25.2688 740.049 L18.7758 740.049 Q17.2162 736.166 16.4205 732.792 Q15.6248 729.419 15.6248 726.618 Q15.6248 719.233 19.3169 714.841 Q23.009 710.449 29.1837 710.449 Q32.112 710.449 34.7537 711.563 Q37.3637 712.645 40.9285 715.541 Q41.8515 716.337 46.2757 720.602 Q50.668 724.867 58.5933 732.633 Z\" fill=\"#000000\" fill-rule=\"nonzero\" fill-opacity=\"1\" /><path clip-path=\"url(#clip490)\" d=\"M792.15 18.8205 L792.15 41.5461 L802.439 41.5461 Q808.151 41.5461 811.27 38.5889 Q814.389 35.6318 814.389 30.163 Q814.389 24.7348 811.27 21.7777 Q808.151 18.8205 802.439 18.8205 L792.15 18.8205 M783.967 12.096 L802.439 12.096 Q812.607 12.096 817.792 16.714 Q823.018 21.2916 823.018 30.163 Q823.018 39.1155 817.792 43.6931 Q812.607 48.2706 802.439 48.2706 L792.15 48.2706 L792.15 72.576 L783.967 72.576 L783.967 12.096 Z\" fill=\"#000000\" fill-rule=\"nonzero\" fill-opacity=\"1\" /><path clip-path=\"url(#clip490)\" d=\"M833.672 9.54393 L841.125 9.54393 L841.125 72.576 L833.672 72.576 L833.672 9.54393 Z\" fill=\"#000000\" fill-rule=\"nonzero\" fill-opacity=\"1\" /><path clip-path=\"url(#clip490)\" d=\"M874.302 32.4315 Q868.307 32.4315 864.823 37.1306 Q861.339 41.7891 861.339 49.9314 Q861.339 58.0738 864.783 62.7728 Q868.266 67.4314 874.302 67.4314 Q880.257 67.4314 883.741 62.7323 Q887.225 58.0333 887.225 49.9314 Q887.225 41.8701 883.741 37.1711 Q880.257 32.4315 874.302 32.4315 M874.302 26.1121 Q884.024 26.1121 889.574 32.4315 Q895.124 38.7509 895.124 49.9314 Q895.124 61.0714 889.574 67.4314 Q884.024 73.7508 874.302 73.7508 Q864.54 73.7508 858.99 67.4314 Q853.481 61.0714 853.481 49.9314 Q853.481 38.7509 858.99 32.4315 Q864.54 26.1121 874.302 26.1121 Z\" fill=\"#000000\" fill-rule=\"nonzero\" fill-opacity=\"1\" /><path clip-path=\"url(#clip490)\" d=\"M914.852 14.324 L914.852 27.2059 L930.205 27.2059 L930.205 32.9987 L914.852 32.9987 L914.852 57.6282 Q914.852 63.1779 916.351 64.7578 Q917.89 66.3376 922.549 66.3376 L930.205 66.3376 L930.205 72.576 L922.549 72.576 Q913.92 72.576 910.639 69.3758 Q907.358 66.1351 907.358 57.6282 L907.358 32.9987 L901.889 32.9987 L901.889 27.2059 L907.358 27.2059 L907.358 14.324 L914.852 14.324 Z\" fill=\"#000000\" fill-rule=\"nonzero\" fill-opacity=\"1\" /><path clip-path=\"url(#clip490)\" d=\"M983.96 32.4315 Q977.965 32.4315 974.481 37.1306 Q970.997 41.7891 970.997 49.9314 Q970.997 58.0738 974.441 62.7728 Q977.924 67.4314 983.96 67.4314 Q989.915 67.4314 993.399 62.7323 Q996.883 58.0333 996.883 49.9314 Q996.883 41.8701 993.399 37.1711 Q989.915 32.4315 983.96 32.4315 M983.96 26.1121 Q993.682 26.1121 999.232 32.4315 Q1004.78 38.7509 1004.78 49.9314 Q1004.78 61.0714 999.232 67.4314 Q993.682 73.7508 983.96 73.7508 Q974.198 73.7508 968.648 67.4314 Q963.139 61.0714 963.139 49.9314 Q963.139 38.7509 968.648 32.4315 Q974.198 26.1121 983.96 26.1121 Z\" fill=\"#000000\" fill-rule=\"nonzero\" fill-opacity=\"1\" /><path clip-path=\"url(#clip490)\" d=\"M1040.11 9.54393 L1040.11 15.7418 L1032.98 15.7418 Q1028.97 15.7418 1027.39 17.3622 Q1025.85 18.9825 1025.85 23.1955 L1025.85 27.2059 L1038.12 27.2059 L1038.12 32.9987 L1025.85 32.9987 L1025.85 72.576 L1018.35 72.576 L1018.35 32.9987 L1011.22 32.9987 L1011.22 27.2059 L1018.35 27.2059 L1018.35 24.0462 Q1018.35 16.471 1021.88 13.0277 Q1025.4 9.54393 1033.06 9.54393 L1040.11 9.54393 Z\" fill=\"#000000\" fill-rule=\"nonzero\" fill-opacity=\"1\" /><path clip-path=\"url(#clip490)\" d=\"M1110.43 27.2059 L1094.02 49.2833 L1111.28 72.576 L1102.49 72.576 L1089.28 54.752 L1076.08 72.576 L1067.29 72.576 L1084.91 48.8377 L1068.79 27.2059 L1077.58 27.2059 L1089.61 43.369 L1101.64 27.2059 L1110.43 27.2059 Z\" fill=\"#000000\" fill-rule=\"nonzero\" fill-opacity=\"1\" /><path clip-path=\"url(#clip490)\" d=\"M1152.72 12.096 L1174.72 34.6595 L1166.58 34.6595 L1148.75 18.6585 L1130.93 34.6595 L1122.78 34.6595 L1144.78 12.096 L1152.72 12.096 Z\" fill=\"#000000\" fill-rule=\"nonzero\" fill-opacity=\"1\" /><path clip-path=\"url(#clip490)\" d=\"M1199.43 65.6895 L1227.99 65.6895 L1227.99 72.576 L1189.58 72.576 L1189.58 65.6895 Q1194.24 60.8689 1202.26 52.7671 Q1210.32 44.6248 1212.39 42.2752 Q1216.32 37.8598 1217.86 34.8216 Q1219.44 31.7429 1219.44 28.7857 Q1219.44 23.9651 1216.04 20.927 Q1212.67 17.8888 1207.25 17.8888 Q1203.4 17.8888 1199.1 19.2256 Q1194.85 20.5624 1189.99 23.2765 L1189.99 15.0127 Q1194.93 13.0277 1199.23 12.015 Q1203.52 11.0023 1207.08 11.0023 Q1216.48 11.0023 1222.07 15.7013 Q1227.66 20.4004 1227.66 28.2591 Q1227.66 31.9859 1226.24 35.3482 Q1224.87 38.6699 1221.18 43.2069 Q1220.17 44.3817 1214.74 50.0125 Q1209.31 55.6027 1199.43 65.6895 Z\" fill=\"#000000\" fill-rule=\"nonzero\" fill-opacity=\"1\" /><path clip-path=\"url(#clip490)\" d=\"M1246.01 62.2867 L1254.56 62.2867 L1254.56 69.2543 L1247.92 82.2172 L1242.69 82.2172 L1246.01 69.2543 L1246.01 62.2867 Z\" fill=\"#000000\" fill-rule=\"nonzero\" fill-opacity=\"1\" /><path clip-path=\"url(#clip490)\" d=\"M1319.82 9.54393 L1319.82 15.7418 L1312.69 15.7418 Q1308.68 15.7418 1307.1 17.3622 Q1305.56 18.9825 1305.56 23.1955 L1305.56 27.2059 L1317.84 27.2059 L1317.84 32.9987 L1305.56 32.9987 L1305.56 72.576 L1298.07 72.576 L1298.07 32.9987 L1290.94 32.9987 L1290.94 27.2059 L1298.07 27.2059 L1298.07 24.0462 Q1298.07 16.471 1301.59 13.0277 Q1305.12 9.54393 1312.77 9.54393 L1319.82 9.54393 Z\" fill=\"#000000\" fill-rule=\"nonzero\" fill-opacity=\"1\" /><path clip-path=\"url(#clip490)\" d=\"M1352.35 34.1734 Q1351.09 33.4443 1349.59 33.1202 Q1348.14 32.7556 1346.35 32.7556 Q1340.03 32.7556 1336.63 36.8875 Q1333.27 40.9789 1333.27 48.6757 L1333.27 72.576 L1325.78 72.576 L1325.78 27.2059 L1333.27 27.2059 L1333.27 34.2544 Q1335.62 30.1225 1339.39 28.1376 Q1343.15 26.1121 1348.54 26.1121 Q1349.31 26.1121 1350.24 26.2337 Q1351.17 26.3147 1352.31 26.5172 L1352.35 34.1734 Z\" fill=\"#000000\" fill-rule=\"nonzero\" fill-opacity=\"1\" /><path clip-path=\"url(#clip490)\" d=\"M1375.93 32.4315 Q1369.93 32.4315 1366.45 37.1306 Q1362.96 41.7891 1362.96 49.9314 Q1362.96 58.0738 1366.41 62.7728 Q1369.89 67.4314 1375.93 67.4314 Q1381.88 67.4314 1385.36 62.7323 Q1388.85 58.0333 1388.85 49.9314 Q1388.85 41.8701 1385.36 37.1711 Q1381.88 32.4315 1375.93 32.4315 M1375.93 26.1121 Q1385.65 26.1121 1391.2 32.4315 Q1396.75 38.7509 1396.75 49.9314 Q1396.75 61.0714 1391.2 67.4314 Q1385.65 73.7508 1375.93 73.7508 Q1366.16 73.7508 1360.61 67.4314 Q1355.1 61.0714 1355.1 49.9314 Q1355.1 38.7509 1360.61 32.4315 Q1366.16 26.1121 1375.93 26.1121 Z\" fill=\"#000000\" fill-rule=\"nonzero\" fill-opacity=\"1\" /><path clip-path=\"url(#clip490)\" d=\"M1444.43 35.9153 Q1447.22 30.8922 1451.11 28.5022 Q1455 26.1121 1460.27 26.1121 Q1467.35 26.1121 1471.2 31.0947 Q1475.05 36.0368 1475.05 45.1919 L1475.05 72.576 L1467.56 72.576 L1467.56 45.4349 Q1467.56 38.913 1465.25 35.7533 Q1462.94 32.5936 1458.2 32.5936 Q1452.41 32.5936 1449.04 36.4419 Q1445.68 40.2903 1445.68 46.9338 L1445.68 72.576 L1438.19 72.576 L1438.19 45.4349 Q1438.19 38.8725 1435.88 35.7533 Q1433.57 32.5936 1428.75 32.5936 Q1423.04 32.5936 1419.68 36.4824 Q1416.31 40.3308 1416.31 46.9338 L1416.31 72.576 L1408.82 72.576 L1408.82 27.2059 L1416.31 27.2059 L1416.31 34.2544 Q1418.87 30.082 1422.43 28.0971 Q1425.99 26.1121 1430.9 26.1121 Q1435.84 26.1121 1439.28 28.6237 Q1442.77 31.1352 1444.43 35.9153 Z\" fill=\"#000000\" fill-rule=\"nonzero\" fill-opacity=\"1\" /><path clip-path=\"url(#clip490)\" d=\"M1512.52 46.5287 L1534.36 46.5287 L1534.36 53.1722 L1512.52 53.1722 L1512.52 46.5287 Z\" fill=\"#000000\" fill-rule=\"nonzero\" fill-opacity=\"1\" /><path clip-path=\"url(#clip490)\" d=\"M1547.36 12.096 L1579.48 12.096 L1579.48 18.9825 L1554.85 18.9825 L1554.85 33.8088 Q1556.64 33.2012 1558.42 32.9176 Q1560.2 32.5936 1561.98 32.5936 Q1572.11 32.5936 1578.03 38.1433 Q1583.94 43.6931 1583.94 53.1722 Q1583.94 62.9348 1577.86 68.3631 Q1571.79 73.7508 1560.73 73.7508 Q1556.92 73.7508 1552.95 73.1026 Q1549.02 72.4545 1544.81 71.1582 L1544.81 62.9348 Q1548.45 64.9198 1552.34 65.892 Q1556.23 66.8642 1560.57 66.8642 Q1567.57 66.8642 1571.67 63.1779 Q1575.76 59.4916 1575.76 53.1722 Q1575.76 46.8528 1571.67 43.1664 Q1567.57 39.4801 1560.57 39.4801 Q1557.28 39.4801 1554 40.2093 Q1550.76 40.9384 1547.36 42.4778 L1547.36 12.096 Z\" fill=\"#000000\" fill-rule=\"nonzero\" fill-opacity=\"1\" /><path clip-path=\"url(#clip490)\" d=\"M1632.75 14.324 L1632.75 27.2059 L1648.11 27.2059 L1648.11 32.9987 L1632.75 32.9987 L1632.75 57.6282 Q1632.75 63.1779 1634.25 64.7578 Q1635.79 66.3376 1640.45 66.3376 L1648.11 66.3376 L1648.11 72.576 L1640.45 72.576 Q1631.82 72.576 1628.54 69.3758 Q1625.26 66.1351 1625.26 57.6282 L1625.26 32.9987 L1619.79 32.9987 L1619.79 27.2059 L1625.26 27.2059 L1625.26 14.324 L1632.75 14.324 Z\" fill=\"#000000\" fill-rule=\"nonzero\" fill-opacity=\"1\" /><path clip-path=\"url(#clip490)\" d=\"M1675.49 32.4315 Q1669.49 32.4315 1666.01 37.1306 Q1662.53 41.7891 1662.53 49.9314 Q1662.53 58.0738 1665.97 62.7728 Q1669.45 67.4314 1675.49 67.4314 Q1681.44 67.4314 1684.93 62.7323 Q1688.41 58.0333 1688.41 49.9314 Q1688.41 41.8701 1684.93 37.1711 Q1681.44 32.4315 1675.49 32.4315 M1675.49 26.1121 Q1685.21 26.1121 1690.76 32.4315 Q1696.31 38.7509 1696.31 49.9314 Q1696.31 61.0714 1690.76 67.4314 Q1685.21 73.7508 1675.49 73.7508 Q1665.73 73.7508 1660.18 67.4314 Q1654.67 61.0714 1654.67 49.9314 Q1654.67 38.7509 1660.18 32.4315 Q1665.73 26.1121 1675.49 26.1121 Z\" fill=\"#000000\" fill-rule=\"nonzero\" fill-opacity=\"1\" /><path clip-path=\"url(#clip490)\" d=\"M1736.17 12.096 L1768.3 12.096 L1768.3 18.9825 L1743.67 18.9825 L1743.67 33.8088 Q1745.45 33.2012 1747.23 32.9176 Q1749.01 32.5936 1750.8 32.5936 Q1760.92 32.5936 1766.84 38.1433 Q1772.75 43.6931 1772.75 53.1722 Q1772.75 62.9348 1766.68 68.3631 Q1760.6 73.7508 1749.54 73.7508 Q1745.73 73.7508 1741.76 73.1026 Q1737.83 72.4545 1733.62 71.1582 L1733.62 62.9348 Q1737.27 64.9198 1741.16 65.892 Q1745.04 66.8642 1749.38 66.8642 Q1756.39 66.8642 1760.48 63.1779 Q1764.57 59.4916 1764.57 53.1722 Q1764.57 46.8528 1760.48 43.1664 Q1756.39 39.4801 1749.38 39.4801 Q1746.1 39.4801 1742.82 40.2093 Q1739.58 40.9384 1736.17 42.4778 L1736.17 12.096 Z\" fill=\"#000000\" fill-rule=\"nonzero\" fill-opacity=\"1\" /><polyline clip-path=\"url(#clip492)\" style=\"stroke:#009af9; stroke-linecap:round; stroke-linejoin:round; stroke-width:4; stroke-opacity:1; fill:none\" points=\"264.778,160.256 467.495,601.666 670.211,944.985 872.927,1190.21 1075.64,1337.35 1278.36,1386.4 1481.08,1337.35 1683.79,1190.21 1886.51,944.985 2089.22,601.666 2291.94,160.256 \"/>\n",
              "</svg>\n"
            ]
          },
          "metadata": {},
          "output_type": "display_data"
        }
      ],
      "source": [
        "# noah hartman (bee5750 - lab01) [last modified: 8/28/24]\n",
        "# 1.function to compute the square of an integer, x\n",
        "function square(x::Int)\n",
        "    return x^2\n",
        "end\n",
        "\n",
        "# defining x (-5 to 5)\n",
        "x_values = -5:5\n",
        "\n",
        "# squaring x values\n",
        "squared_values = [square(x) for x in x_values]\n",
        "\n",
        "# plotting w/ axis labels :)\n",
        "using Plots\n",
        "plot(x_values, squared_values,\n",
        "     xlabel=\"x\", ylabel=\"x^2\", title=\"Plot of x^2, from -5 to 5\",\n",
        "     legend=false)\n",
        "# :D "
      ]
    },
    {
      "cell_type": "markdown",
      "id": "eaca6031-e691-4019-9986-e7127b3df842",
      "metadata": {},
      "source": [
        "## Commit and Push Your Changes to GitHub\n",
        "\n",
        "After completing the previous two exercises, commit your solution file\n",
        "(notebook or otherwise) and push to GitHub. Use an informative commit\n",
        "message which makes it clear what changes you’ve made. The specific\n",
        "workflow for this will vary depending on how you’re writing up your\n",
        "solutions; please search for specifics and ask for help as needed!\n",
        "\n",
        "> **Useful Commit Sizes**\n",
        ">\n",
        "> Ideally, you’d commit whenever you make a “substantial” enough change\n",
        "> that you want to lock in, such as writing the core code for a problem\n",
        "> or completing a problem, if you’re preparing code to be used elsewhere\n",
        "> (by yourself or others), or if you want to ask for help. `git` lets\n",
        "> you revert changes back to a previous commit, so it’s easy to undo\n",
        "> changes or updates which broke something that was previously working,\n",
        "> so changing too many things at once can make it hard to keep track of\n",
        "> what worked when.\n",
        ">\n",
        "> But in this case, go ahead and just commit after finishing the\n",
        "> problems.\n",
        "\n",
        "Push the repository with these commits to GitHub and take a screenshot\n",
        "of the repository page\n",
        "(`https://github.com/BEE4750-FA24/<username>/lab01`) which shows the\n",
        "updated repository. Include that screenshot in your submission as the\n",
        "solution to this problem.\n",
        "\n",
        "## Submitting PDF\n",
        "\n",
        "> **Important**\n",
        ">\n",
        "> These submission instructions will not be repeated on future\n",
        "> assignments!\n",
        "\n",
        "Export your writeup as a PDF and submit it to the “Lab 1” assignment on\n",
        "Gradescope. Make sure that you tag pages corresponding to relevant\n",
        "problems to avoid a 10% penalty.\n",
        "\n",
        "> **Printing Code to PDF**\n",
        ">\n",
        "> You are not required to submit your code when submitting assignments.\n",
        "> However, when printing a notebook to PDF, long lines will run off the\n",
        "> edge of code cells, which may result in comments or code being hidden.\n",
        "> If you see this, go back to the notebook and break up long lines into\n",
        "> shorter onces (for example, see the comment in the above code cell) to\n",
        "> ensure key parts of your results aren’t missing."
      ]
    }
  ],
  "metadata": {
    "kernel_info": {
      "name": "julia"
    },
    "kernelspec": {
      "display_name": "Julia 1.10.4",
      "language": "julia",
      "name": "julia-1.10"
    },
    "language_info": {
      "file_extension": ".jl",
      "mimetype": "application/julia",
      "name": "julia",
      "version": "1.10.4"
    }
  },
  "nbformat": 4,
  "nbformat_minor": 5
}
